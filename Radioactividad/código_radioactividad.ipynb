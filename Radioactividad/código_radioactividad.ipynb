{
 "cells": [
  {
   "cell_type": "code",
   "execution_count": 160,
   "metadata": {},
   "outputs": [
    {
     "data": {
      "text/html": [
       "<style>.container { width:90% !important; }</style>"
      ],
      "text/plain": [
       "<IPython.core.display.HTML object>"
      ]
     },
     "metadata": {},
     "output_type": "display_data"
    }
   ],
   "source": [
    "from IPython.display import display, HTML\n",
    "display(HTML(\"<style>.container { width:90% !important; }</style>\"))\n",
    "\n",
    "import numpy as np\n",
    "import matplotlib.pyplot as plt\n",
    "import sympy as sym\n",
    "\n",
    "from scipy.stats import norm\n",
    "from scipy.stats import t\n",
    "from scipy.stats import chi2"
   ]
  },
  {
   "cell_type": "markdown",
   "metadata": {},
   "source": [
    "# Radioactividad"
   ]
  },
  {
   "cell_type": "code",
   "execution_count": 161,
   "metadata": {},
   "outputs": [],
   "source": [
    "def Minimos_cuadrados(x,y,n=1):\n",
    "    l = x.shape[0]\n",
    "    b = y\n",
    "    \n",
    "    A = np.ones((l,n+1))\n",
    "    \n",
    "    for i in range(1,n+1):\n",
    "        A[:,i] = x**i\n",
    "        \n",
    "    AT = np.dot(A.T,A)\n",
    "    bT = np.dot(A.T,b)\n",
    "\n",
    "    xsol = np.linalg.solve(AT,bT)\n",
    "    \n",
    "    return xsol\n",
    "\n",
    "def GetModel(x,p):\n",
    "    \n",
    "    y = 0.\n",
    "    for i in range(len(p)):\n",
    "        y += p[i]*x**i\n",
    "        \n",
    "    return y\n",
    "\n",
    "def GetError(x,y,p,n=1):\n",
    "    \n",
    "    l = x.shape[0]\n",
    "    \n",
    "    A = np.ones((l,n+1))\n",
    "    \n",
    "    for i in range(1,n+1):\n",
    "        A[:,i] = x**i\n",
    "        \n",
    "    # Residuos\n",
    "    R = y - np.dot(A,p)\n",
    "    \n",
    "    sigma2 = np.dot(R.T,R)/(len(y)-len(p))\n",
    "    \n",
    "    Cov = sigma2*np.linalg.inv(np.dot(A.T,A))\n",
    "    \n",
    "    R2 = None\n",
    "    if np.shape(Cov) == (2,2):\n",
    "        R2 = (Cov[0][1]**2)/(Cov[0][0]*Cov[1][1])\n",
    "\n",
    "    return (Cov,R2,R)\n",
    "\n",
    "def Get_sigma(Cov):\n",
    "    sigmaai = np.sqrt(np.diagonal(Cov))\n",
    "    return sigmaai[::-1]\n",
    "\n",
    "def Error_relativo(X_real,X_exp):\n",
    "    return (np.abs(X_exp - X_real)/X_real)\n",
    "\n",
    "def presicion(d,v):\n",
    "    p = (d/v)\n",
    "    if p <= 0.1:\n",
    "        return p,True\n",
    "    else:\n",
    "        return p,False\n",
    "    \n",
    "def exactitud(xr,xm,d):\n",
    "    e = (np.abs(xr-xm))\n",
    "    if e <= (2.5*d):\n",
    "        return e/d,True\n",
    "    else:\n",
    "        return e/d,False\n",
    "    \n",
    "def Promedio(lista):\n",
    "    return np.sum(lista) / len(lista)\n",
    "\n",
    "def promedios(M):\n",
    "    P = []\n",
    "    for i in M:\n",
    "        P.append(Promedio(i))\n",
    "    return tuple(P)\n",
    "\n",
    "def Standard_Deviation(lista):\n",
    "    return np.sqrt(np.sum((lista-Promedio(lista))**2) / len(lista))\n",
    "\n",
    "def SDs(M):\n",
    "    S = []\n",
    "    for i in M:\n",
    "        S.append(Standard_Deviation(i))\n",
    "    return tuple(S)\n",
    "\n",
    "def conteo(lista):\n",
    "    L = []\n",
    "    L.append(lista[0])\n",
    "    for i in range(len(lista)-1):\n",
    "        L.append(lista[i+1]-lista[i])\n",
    "    return np.array(L)\n",
    "\n",
    "def conteo3(lista):\n",
    "    n = len(lista)\n",
    "    L = []\n",
    "    L.append(lista[2])\n",
    "    for i in range(2,int(((n-(n%3))/3)+1)):\n",
    "        L.append(lista[(3*i)-1]-lista[(3*(i-1))-1])\n",
    "    return np.array(L)\n",
    "\n",
    "X = sym.Symbol('x',real=True)\n",
    "Y = sym.Symbol('y',real=True)"
   ]
  },
  {
   "cell_type": "markdown",
   "metadata": {},
   "source": [
    "# Datos"
   ]
  },
  {
   "cell_type": "code",
   "execution_count": 162,
   "metadata": {},
   "outputs": [],
   "source": [
    "R_amb = 226/10\n",
    "Dos = np.array([330., 670., 996., 1294., 1624., 1951., 2271., 2569., 2852., 3173.])\n",
    "Cuatro = np.array([120., 248., 388., 511., 619., 733., 851., 977., 1086., 1183.])\n",
    "Ocho = np.array([36., 68., 126., 174., 196., 225., 279., 331., 380., 419.])\n",
    "B1 = np.array([186., 364., 537., 707., 893.])\n",
    "B2 = np.array([28., 65., 104., 128., 165.])\n",
    "B3 = np.array([32., 68., 99., 138., 173.])\n",
    "t1 = np.array([1., 2., 3., 4., 5., 6., 7., 8., 9., 10.])\n",
    "t2 = np.array([1., 2., 3., 4., 5.])"
   ]
  },
  {
   "cell_type": "markdown",
   "metadata": {},
   "source": [
    "# Análisis"
   ]
  },
  {
   "cell_type": "markdown",
   "metadata": {},
   "source": [
    "1 min"
   ]
  },
  {
   "cell_type": "code",
   "execution_count": 163,
   "metadata": {},
   "outputs": [
    {
     "data": {
      "text/plain": [
       "(294.7, 95.7, 19.3)"
      ]
     },
     "execution_count": 163,
     "metadata": {},
     "output_type": "execute_result"
    }
   ],
   "source": [
    "Dos_c = conteo(Dos) - R_amb\n",
    "Cuatro_c = conteo(Cuatro) - R_amb\n",
    "Ocho_c = conteo(Ocho) - R_amb\n",
    "B1_c = conteo(B1) - R_amb\n",
    "B2_c = conteo(B2) - R_amb\n",
    "B3_c = conteo(B3) - R_amb\n",
    "M_1 = np.array([Dos_c,Cuatro_c,Ocho_c])\n",
    "(Promedio(Dos_c),Promedio(Cuatro_c),Promedio(Ocho_c))"
   ]
  },
  {
   "cell_type": "code",
   "execution_count": 164,
   "metadata": {},
   "outputs": [
    {
     "data": {
      "text/plain": [
       "(17.175855146105533, 11.463420083029323, 11.396929411029975)"
      ]
     },
     "execution_count": 164,
     "metadata": {},
     "output_type": "execute_result"
    }
   ],
   "source": [
    "SD2,SD4,SD8 = SDs(M_1)\n",
    "(SD2,SD4,SD8)"
   ]
  },
  {
   "cell_type": "code",
   "execution_count": 165,
   "metadata": {},
   "outputs": [
    {
     "data": {
      "text/plain": [
       "(5.431482302281762, 3.6250517237689173, 3.604025527101605)"
      ]
     },
     "execution_count": 165,
     "metadata": {},
     "output_type": "execute_result"
    }
   ],
   "source": [
    "Err2,Err4,Err8 = SDs(M_1)/np.sqrt(10)\n",
    "(Err2,Err4,Err8)"
   ]
  },
  {
   "cell_type": "code",
   "execution_count": 166,
   "metadata": {},
   "outputs": [
    {
     "data": {
      "text/plain": [
       "array([[ 5.12333333,  5.29      ,  5.05666667,  4.59      ,  5.12333333,\n",
       "         5.07333333,  4.95666667,  4.59      ,  4.34      ,  4.97333333],\n",
       "       [ 1.62333333,  1.75666667,  1.95666667,  1.67333333,  1.42333333,\n",
       "         1.52333333,  1.59      ,  1.72333333,  1.44      ,  1.24      ],\n",
       "       [ 0.22333333,  0.15666667,  0.59      ,  0.42333333, -0.01      ,\n",
       "         0.10666667,  0.52333333,  0.49      ,  0.44      ,  0.27333333]])"
      ]
     },
     "execution_count": 166,
     "metadata": {},
     "output_type": "execute_result"
    }
   ],
   "source": [
    "frec_Dos_c = Dos_c / 60\n",
    "frec_Cuatro_c = Cuatro_c / 60\n",
    "frec_Ocho_c = Ocho_c / 60\n",
    "frec_B1_c = B1_c / 60\n",
    "frec_B2_c = B2_c / 60\n",
    "frec_B3_c = B3_c / 60\n",
    "M_1 = np.array([frec_Dos_c,frec_Cuatro_c,frec_Ocho_c])\n",
    "M_1"
   ]
  },
  {
   "cell_type": "code",
   "execution_count": 167,
   "metadata": {},
   "outputs": [
    {
     "data": {
      "text/plain": [
       "(4.911666666666666, 1.595, 0.32166666666666666)"
      ]
     },
     "execution_count": 167,
     "metadata": {},
     "output_type": "execute_result"
    }
   ],
   "source": [
    "P2,P4,P8 = promedios(M_1)\n",
    "(P2,P4,P8)"
   ]
  },
  {
   "cell_type": "code",
   "execution_count": 168,
   "metadata": {},
   "outputs": [
    {
     "data": {
      "text/plain": [
       "(0.28626425243509224, 0.19105700138382206, 0.1899488235171662)"
      ]
     },
     "execution_count": 168,
     "metadata": {},
     "output_type": "execute_result"
    }
   ],
   "source": [
    "SD2_f,SD4_f,SD8_f = SDs(M_1)\n",
    "(SD2_f,SD4_f,SD8_f)"
   ]
  },
  {
   "cell_type": "code",
   "execution_count": 169,
   "metadata": {},
   "outputs": [
    {
     "data": {
      "text/plain": [
       "(0.09052470503802937, 0.06041752872948196, 0.06006709211836007)"
      ]
     },
     "execution_count": 169,
     "metadata": {},
     "output_type": "execute_result"
    }
   ],
   "source": [
    "Err2_f,Err4_f,Err8_f = SDs(M_1)/np.sqrt(10)\n",
    "(Err2_f,Err4_f,Err8_f)"
   ]
  },
  {
   "cell_type": "code",
   "execution_count": 170,
   "metadata": {},
   "outputs": [],
   "source": [
    "#residuos\n",
    "r_2 = Dos_c - Promedio(Dos_c)\n",
    "r_4 = Cuatro_c - Promedio(Cuatro_c)\n",
    "r_8 = Ocho_c - Promedio(Ocho_c)"
   ]
  },
  {
   "cell_type": "code",
   "execution_count": 171,
   "metadata": {},
   "outputs": [
    {
     "data": {
      "image/png": "[encoded data removed]",
      "text/plain": [
       "<Figure size 864x576 with 2 Axes>"
      ]
     },
     "metadata": {
      "needs_background": "light"
     },
     "output_type": "display_data"
    }
   ],
   "source": [
    "fig,axs = plt.subplots(2,1,figsize=(12,8),gridspec_kw={'height_ratios': [1.5, 1]},sharex=True)\n",
    "fig.subplots_adjust(hspace=0)\n",
    "fig.suptitle('Mediciones de un minuto')\n",
    "\n",
    "axs[0].scatter(t1,Dos_c,label='2cm',color='red',marker='x')\n",
    "axs[0].axhline(y=Promedio(Dos_c),color='red')\n",
    "axs[0].scatter(t1,Cuatro_c,label='4cm',color='green',marker='x')\n",
    "axs[0].axhline(y=Promedio(Cuatro_c),color='green')\n",
    "axs[0].scatter(t1,Ocho_c,label='8cm',color='blue',marker='x')\n",
    "axs[0].axhline(y=Promedio(Ocho_c),color='blue')\n",
    "axs[0].set_ylabel('Conteo')\n",
    "axs[0].legend()\n",
    "\n",
    "axs[1].scatter(t1,r_2,label='Residuo 2cm',color='red')\n",
    "axs[1].scatter(t1,r_4,label='Residuo 4cm',color='green')\n",
    "axs[1].scatter(t1,r_8,label='Residuo 8cm',color='blue')\n",
    "axs[1].axhline(y=0, color='black', linestyle='--')\n",
    "axs[1].set_ylabel('Residual')\n",
    "axs[1].set_xlabel('Medición')\n",
    "axs[1].set_xticks(np.arange(1., 11., 1.))\n",
    "axs[1].legend()\n",
    "plt.show()"
   ]
  },
  {
   "cell_type": "markdown",
   "metadata": {},
   "source": [
    "3 min"
   ]
  },
  {
   "cell_type": "code",
   "execution_count": 172,
   "metadata": {},
   "outputs": [
    {
     "data": {
      "text/plain": [
       "(882.8666666666668, 294.2, 58.86666666666665)"
      ]
     },
     "execution_count": 172,
     "metadata": {},
     "output_type": "execute_result"
    }
   ],
   "source": [
    "Dos_c3 = conteo3(Dos) - (3*R_amb)\n",
    "Cuatro_c3 = conteo3(Cuatro) - (3*R_amb)\n",
    "Ocho_c3 = conteo3(Ocho) - (3*R_amb)\n",
    "M_3 = np.array([Dos_c3,Cuatro_c3,Ocho_c3])\n",
    "(Promedio(Dos_c3),Promedio(Cuatro_c3),Promedio(Ocho_c3))"
   ]
  },
  {
   "cell_type": "code",
   "execution_count": 173,
   "metadata": {},
   "outputs": [
    {
     "data": {
      "text/plain": [
       "(38.90444133457716, 18.672618098881223, 22.866763848189994)"
      ]
     },
     "execution_count": 173,
     "metadata": {},
     "output_type": "execute_result"
    }
   ],
   "source": [
    "SD2_3,SD4_3,SD8_3 = SDs(M_3)\n",
    "(SD2_3,SD4_3,SD8_3)"
   ]
  },
  {
   "cell_type": "code",
   "execution_count": 174,
   "metadata": {},
   "outputs": [
    {
     "data": {
      "text/plain": [
       "(22.461489677190126, 10.780641085864152, 13.202132263248096)"
      ]
     },
     "execution_count": 174,
     "metadata": {},
     "output_type": "execute_result"
    }
   ],
   "source": [
    "Err2_c3,Err4_c3,Err8_c3 = SDs(M_3)/np.sqrt(3)\n",
    "(Err2_c3,Err4_c3,Err8_c3)"
   ]
  },
  {
   "cell_type": "code",
   "execution_count": 175,
   "metadata": {},
   "outputs": [
    {
     "data": {
      "text/plain": [
       "array([[5.15666667, 4.92888889, 4.62888889],\n",
       "       [1.77888889, 1.54      , 1.58444444],\n",
       "       [0.32333333, 0.17333333, 0.48444444]])"
      ]
     },
     "execution_count": 175,
     "metadata": {},
     "output_type": "execute_result"
    }
   ],
   "source": [
    "frec_Dos_c3 = (Dos_c3/3) / 60\n",
    "frec_Cuatro_c3 = (Cuatro_c3/3) / 60\n",
    "frec_Ocho_c3 = (Ocho_c3/3) / 60\n",
    "M_3 = np.array([frec_Dos_c3,frec_Cuatro_c3,frec_Ocho_c3])\n",
    "M_3"
   ]
  },
  {
   "cell_type": "code",
   "execution_count": 176,
   "metadata": {},
   "outputs": [
    {
     "data": {
      "text/plain": [
       "(4.904814814814816, 1.6344444444444444, 0.32703703703703696)"
      ]
     },
     "execution_count": 176,
     "metadata": {},
     "output_type": "execute_result"
    }
   ],
   "source": [
    "P2_3,P4_3,P8_3 = promedios(M_3)\n",
    "(P2_3,P4_3,P8_3)"
   ]
  },
  {
   "cell_type": "code",
   "execution_count": 177,
   "metadata": {},
   "outputs": [
    {
     "data": {
      "text/plain": [
       "(0.21613578519209528, 0.10373676721600691, 0.12703757693438886)"
      ]
     },
     "execution_count": 177,
     "metadata": {},
     "output_type": "execute_result"
    }
   ],
   "source": [
    "SD2_3_f,SD4_3_f,SD8_3_f = SDs(M_3)\n",
    "(SD2_3_f,SD4_3_f,SD8_3_f)"
   ]
  },
  {
   "cell_type": "code",
   "execution_count": 178,
   "metadata": {},
   "outputs": [
    {
     "data": {
      "text/plain": [
       "(0.12478605376216735, 0.05989245047702314, 0.0733451792402672)"
      ]
     },
     "execution_count": 178,
     "metadata": {},
     "output_type": "execute_result"
    }
   ],
   "source": [
    "Err2_c3_f,Err4_c3_f,Err8_c3_f = SDs(M_3)/np.sqrt(3)\n",
    "(Err2_c3_f,Err4_c3_f,Err8_c3_f)"
   ]
  },
  {
   "cell_type": "code",
   "execution_count": 179,
   "metadata": {},
   "outputs": [],
   "source": [
    "t1 = np.array([1., 2., 3.])\n",
    "#residuos\n",
    "r_2 = Dos_c3 - Promedio(Dos_c3)\n",
    "r_4 = Cuatro_c3 - Promedio(Cuatro_c3)\n",
    "r_8 = Ocho_c3 - Promedio(Ocho_c3)"
   ]
  },
  {
   "cell_type": "code",
   "execution_count": 180,
   "metadata": {},
   "outputs": [
    {
     "data": {
      "image/png": "[encoded data removed]",
      "text/plain": [
       "<Figure size 864x576 with 2 Axes>"
      ]
     },
     "metadata": {
      "needs_background": "light"
     },
     "output_type": "display_data"
    }
   ],
   "source": [
    "fig,axs = plt.subplots(2,1,figsize=(12,8),gridspec_kw={'height_ratios': [1.5, 1]},sharex=True)\n",
    "fig.subplots_adjust(hspace=0)\n",
    "fig.suptitle('Mediciones de tres minutos')\n",
    "\n",
    "axs[0].scatter(t1,Dos_c3,label='2cm',color='red',marker='x')\n",
    "axs[0].axhline(y=Promedio(Dos_c3),color='red')\n",
    "axs[0].scatter(t1,Cuatro_c3,label='4cm',color='green',marker='x')\n",
    "axs[0].axhline(y=Promedio(Cuatro_c3),color='green')\n",
    "axs[0].scatter(t1,Ocho_c3,label='8cm',color='blue',marker='x')\n",
    "axs[0].axhline(y=Promedio(Ocho_c3),color='blue')\n",
    "axs[0].set_ylabel('Conteo')\n",
    "axs[0].legend()\n",
    "\n",
    "axs[1].scatter(t1,r_2,label='Residuo 2cm',color='red')\n",
    "axs[1].scatter(t1,r_4,label='Residuo 4cm',color='green')\n",
    "axs[1].scatter(t1,r_8,label='Residuo 8cm',color='blue')\n",
    "axs[1].axhline(y=0, color='black', linestyle='--')\n",
    "axs[1].set_ylabel('Residual')\n",
    "axs[1].set_xlabel('Medición')\n",
    "axs[1].set_xticks(np.arange(1., 4., 1.))\n",
    "axs[1].legend()\n",
    "plt.show()"
   ]
  },
  {
   "cell_type": "markdown",
   "metadata": {},
   "source": [
    "10 min"
   ]
  },
  {
   "cell_type": "code",
   "execution_count": 181,
   "metadata": {},
   "outputs": [
    {
     "data": {
      "text/plain": [
       "(2947.0, 957.0, 193.0)"
      ]
     },
     "execution_count": 181,
     "metadata": {},
     "output_type": "execute_result"
    }
   ],
   "source": [
    "Dos_c10 = Dos[-1] - (10*R_amb)\n",
    "Cuatro_c10 = Cuatro[-1] - (10*R_amb)\n",
    "Ocho_c10 = Ocho[-1] - (10*R_amb)\n",
    "(Dos_c10,Cuatro_c10,Ocho_c10)"
   ]
  },
  {
   "cell_type": "code",
   "execution_count": 182,
   "metadata": {},
   "outputs": [
    {
     "data": {
      "text/plain": [
       "(4.911666666666666, 1.595, 0.32166666666666666)"
      ]
     },
     "execution_count": 182,
     "metadata": {},
     "output_type": "execute_result"
    }
   ],
   "source": [
    "frec_Dos_c10 = (Dos_c10/10)/60\n",
    "frec_Cuatro_c10 = (Cuatro_c10/10)/60\n",
    "frec_Ocho_c10 = (Ocho_c10/10)/60\n",
    "(frec_Dos_c10,frec_Cuatro_c10,frec_Ocho_c10)"
   ]
  },
  {
   "cell_type": "markdown",
   "metadata": {},
   "source": [
    "Barreras"
   ]
  },
  {
   "cell_type": "code",
   "execution_count": 183,
   "metadata": {},
   "outputs": [
    {
     "data": {
      "text/plain": [
       "(array([163.4, 155.4, 150.4, 147.4, 163.4]),\n",
       " array([ 5.4, 14.4, 16.4,  1.4, 14.4]),\n",
       " array([ 9.4, 13.4,  8.4, 16.4, 12.4]))"
      ]
     },
     "execution_count": 183,
     "metadata": {},
     "output_type": "execute_result"
    }
   ],
   "source": [
    "# B1 = papel\n",
    "# B2 = aluminio\n",
    "# B3 = plomo\n",
    "M_B = np.array([B1_c,B2_c,B3_c])\n",
    "(B1_c,B2_c,B3_c)"
   ]
  },
  {
   "cell_type": "code",
   "execution_count": 184,
   "metadata": {},
   "outputs": [
    {
     "data": {
      "text/plain": [
       "(156.0, 10.399999999999999, 11.999999999999998)"
      ]
     },
     "execution_count": 184,
     "metadata": {},
     "output_type": "execute_result"
    }
   ],
   "source": [
    "(Promedio(B1_c),Promedio(B2_c),Promedio(B3_c))"
   ]
  },
  {
   "cell_type": "code",
   "execution_count": 185,
   "metadata": {},
   "outputs": [
    {
     "data": {
      "text/plain": [
       "(2.93393933134276, 2.638181191654583, 1.2837445228704971)"
      ]
     },
     "execution_count": 185,
     "metadata": {},
     "output_type": "execute_result"
    }
   ],
   "source": [
    "ErrB1,ErrB2,ErrB3 = SDs(M_B)/np.sqrt(5)\n",
    "(ErrB1,ErrB2,ErrB3)"
   ]
  },
  {
   "cell_type": "code",
   "execution_count": 186,
   "metadata": {},
   "outputs": [
    {
     "data": {
      "text/plain": [
       "(6.560487786742691, 5.89915248150105, 2.870540018881465)"
      ]
     },
     "execution_count": 186,
     "metadata": {},
     "output_type": "execute_result"
    }
   ],
   "source": [
    "S_B1,S_B2,S_B3 = SDs(M_B)\n",
    "(S_B1,S_B2,S_B3)"
   ]
  },
  {
   "cell_type": "code",
   "execution_count": 187,
   "metadata": {},
   "outputs": [
    {
     "data": {
      "text/plain": [
       "(2.6, 0.1733333333333333, 0.19999999999999998)"
      ]
     },
     "execution_count": 187,
     "metadata": {},
     "output_type": "execute_result"
    }
   ],
   "source": [
    "M_B = np.array([frec_B1_c,frec_B2_c,frec_B3_c])\n",
    "P_B1,P_B2,P_B3 = promedios(M_B)\n",
    "(P_B1,P_B2,P_B3)"
   ]
  },
  {
   "cell_type": "code",
   "execution_count": 188,
   "metadata": {},
   "outputs": [
    {
     "data": {
      "text/plain": [
       "(0.10934146311237829, 0.09831920802501751, 0.04784233364802441)"
      ]
     },
     "execution_count": 188,
     "metadata": {},
     "output_type": "execute_result"
    }
   ],
   "source": [
    "S_B1_f,S_B2_f,S_B3_f = SDs(M_B)\n",
    "(S_B1_f,S_B2_f,S_B3_f)"
   ]
  },
  {
   "cell_type": "code",
   "execution_count": 189,
   "metadata": {},
   "outputs": [
    {
     "data": {
      "text/plain": [
       "(0.04889898885571271, 0.04396968652757639, 0.021395742047841615)"
      ]
     },
     "execution_count": 189,
     "metadata": {},
     "output_type": "execute_result"
    }
   ],
   "source": [
    "ErrB1_f,ErrB2_f,ErrB3_f = SDs(M_B)/np.sqrt(5)\n",
    "(ErrB1_f,ErrB2_f,ErrB3_f)"
   ]
  },
  {
   "cell_type": "code",
   "execution_count": 190,
   "metadata": {},
   "outputs": [],
   "source": [
    "t1 = np.array([1., 2., 3., 4., 5.])\n",
    "#residuos\n",
    "r_B1 = B1_c - Promedio(B1_c)\n",
    "r_B2 = B2_c - Promedio(B2_c)\n",
    "r_B3 = B3_c - Promedio(B3_c)"
   ]
  },
  {
   "cell_type": "code",
   "execution_count": 191,
   "metadata": {},
   "outputs": [
    {
     "data": {
      "image/png": "[encoded data removed]",
      "text/plain": [
       "<Figure size 864x576 with 2 Axes>"
      ]
     },
     "metadata": {
      "needs_background": "light"
     },
     "output_type": "display_data"
    }
   ],
   "source": [
    "fig,axs = plt.subplots(2,1,figsize=(12,8),gridspec_kw={'height_ratios': [1.5, 1]},sharex=True)\n",
    "fig.subplots_adjust(hspace=0)\n",
    "fig.suptitle('Mediciones con diferentes barreras físicas')\n",
    "\n",
    "axs[0].scatter(t1,B1_c,label='Papel',color='red',marker='x')\n",
    "axs[0].axhline(y=Promedio(B1_c),color='red')\n",
    "axs[0].scatter(t1,B2_c,label='Aluminio',color='green',marker='x')\n",
    "axs[0].axhline(y=Promedio(B2_c),color='green')\n",
    "axs[0].scatter(t1,B3_c,label='Plomo',color='blue',marker='x')\n",
    "axs[0].axhline(y=Promedio(B3_c),color='blue')\n",
    "axs[0].set_ylabel('Conteo')\n",
    "axs[0].legend()\n",
    "\n",
    "axs[1].scatter(t1,r_B1,label='Residuo Papel',color='red')\n",
    "axs[1].scatter(t1,r_B2,label='Residuo Aluminio',color='green')\n",
    "axs[1].scatter(t1,r_B3,label='Residuo Plomo',color='blue')\n",
    "axs[1].axhline(y=0, color='black', linestyle='--')\n",
    "axs[1].set_ylabel('Residual')\n",
    "axs[1].set_xlabel('Medición')\n",
    "axs[1].set_xticks(np.arange(1., 6., 1.))\n",
    "axs[1].legend()\n",
    "plt.show()"
   ]
  }
 ],
 "metadata": {
  "kernelspec": {
   "display_name": "base",
   "language": "python",
   "name": "python3"
  },
  "language_info": {
   "codemirror_mode": {
    "name": "ipython",
    "version": 3
   },
   "file_extension": ".py",
   "mimetype": "text/x-python",
   "name": "python",
   "nbconvert_exporter": "python",
   "pygments_lexer": "ipython3",
   "version": "3.9.7"
  }
 },
 "nbformat": 4,
 "nbformat_minor": 2
}
