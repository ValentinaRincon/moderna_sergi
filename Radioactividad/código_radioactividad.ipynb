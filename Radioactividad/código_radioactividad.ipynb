{
 "cells": [
  {
   "cell_type": "code",
   "execution_count": 54,
   "metadata": {},
   "outputs": [
    {
     "data": {
      "text/html": [
       "<style>.container { width:90% !important; }</style>"
      ],
      "text/plain": [
       "<IPython.core.display.HTML object>"
      ]
     },
     "metadata": {},
     "output_type": "display_data"
    }
   ],
   "source": [
    "from IPython.display import display, HTML\n",
    "display(HTML(\"<style>.container { width:90% !important; }</style>\"))\n",
    "\n",
    "import numpy as np\n",
    "import matplotlib.pyplot as plt\n",
    "import sympy as sym\n",
    "\n",
    "from scipy.stats import norm\n",
    "from scipy.stats import t\n",
    "from scipy.stats import chi2"
   ]
  },
  {
   "cell_type": "markdown",
   "metadata": {},
   "source": [
    "# Radioactividad"
   ]
  },
  {
   "cell_type": "code",
   "execution_count": 55,
   "metadata": {},
   "outputs": [],
   "source": [
    "def Minimos_cuadrados(x,y,n=1):\n",
    "    l = x.shape[0]\n",
    "    b = y\n",
    "    \n",
    "    A = np.ones((l,n+1))\n",
    "    \n",
    "    for i in range(1,n+1):\n",
    "        A[:,i] = x**i\n",
    "        \n",
    "    AT = np.dot(A.T,A)\n",
    "    bT = np.dot(A.T,b)\n",
    "\n",
    "    xsol = np.linalg.solve(AT,bT)\n",
    "    \n",
    "    return xsol\n",
    "\n",
    "def GetModel(x,p):\n",
    "    \n",
    "    y = 0.\n",
    "    for i in range(len(p)):\n",
    "        y += p[i]*x**i\n",
    "        \n",
    "    return y\n",
    "\n",
    "def GetError(x,y,p,n=1):\n",
    "    \n",
    "    l = x.shape[0]\n",
    "    \n",
    "    A = np.ones((l,n+1))\n",
    "    \n",
    "    for i in range(1,n+1):\n",
    "        A[:,i] = x**i\n",
    "        \n",
    "    # Residuos\n",
    "    R = y - np.dot(A,p)\n",
    "    \n",
    "    sigma2 = np.dot(R.T,R)/(len(y)-len(p))\n",
    "    \n",
    "    Cov = sigma2*np.linalg.inv(np.dot(A.T,A))\n",
    "    \n",
    "    R2 = None\n",
    "    if np.shape(Cov) == (2,2):\n",
    "        R2 = (Cov[0][1]**2)/(Cov[0][0]*Cov[1][1])\n",
    "\n",
    "    return (Cov,R2,R)\n",
    "\n",
    "def Get_sigma(Cov):\n",
    "    sigmaai = np.sqrt(np.diagonal(Cov))\n",
    "    return sigmaai[::-1]\n",
    "\n",
    "def Error_relativo(X_real,X_exp):\n",
    "    return (np.abs(X_exp - X_real)/X_real)\n",
    "\n",
    "def presicion(d,v):\n",
    "    p = (d/v)\n",
    "    if p <= 0.1:\n",
    "        return p,True\n",
    "    else:\n",
    "        return p,False\n",
    "    \n",
    "def exactitud(xr,xm,d):\n",
    "    e = (np.abs(xr-xm))\n",
    "    if e <= (2.5*d):\n",
    "        return e/d,True\n",
    "    else:\n",
    "        return e/d,False\n",
    "    \n",
    "def Promedio(lista):\n",
    "    return np.sum(lista) / len(lista)\n",
    "\n",
    "def promedios(M):\n",
    "    P = []\n",
    "    for i in M:\n",
    "        P.append(Promedio(i))\n",
    "    return tuple(P)\n",
    "\n",
    "def Standard_Deviation(lista):\n",
    "    return np.sqrt(np.sum((lista-Promedio(lista))**2) / len(lista))\n",
    "\n",
    "def SDs(M):\n",
    "    S = []\n",
    "    for i in M:\n",
    "        S.append(Standard_Deviation(i))\n",
    "    return tuple(S)\n",
    "\n",
    "def conteo(lista):\n",
    "    L = []\n",
    "    L.append(lista[0])\n",
    "    for i in range(len(lista)-1):\n",
    "        L.append(lista[i+1]-lista[i])\n",
    "    return np.array(L)\n",
    "\n",
    "def conteo3(lista):\n",
    "    n = len(lista)\n",
    "    L = []\n",
    "    L.append(lista[2])\n",
    "    for i in range(2,int(((n-(n%3))/3)+1)):\n",
    "        L.append(lista[(3*i)-1]-lista[(3*(i-1))-1])\n",
    "    return np.array(L)\n",
    "\n",
    "X = sym.Symbol('x',real=True)\n",
    "Y = sym.Symbol('y',real=True)"
   ]
  },
  {
   "cell_type": "markdown",
   "metadata": {},
   "source": [
    "# Datos"
   ]
  },
  {
   "cell_type": "code",
   "execution_count": 56,
   "metadata": {},
   "outputs": [],
   "source": [
    "R_amb = 226/10\n",
    "Dos = np.array([330., 670., 996., 1294., 1624., 1951., 2271., 2569., 2852., 3173.])\n",
    "Cuatro = np.array([120., 248., 388., 511., 619., 733., 851., 977., 1086., 1183.])\n",
    "Ocho = np.array([36., 68., 126., 174., 196., 225., 279., 331., 380., 419.])\n",
    "B1 = np.array([186., 364., 537., 707., 893.])\n",
    "B2 = np.array([28., 65., 104., 128., 165.])\n",
    "B3 = np.array([32., 68., 99., 138., 173.])\n",
    "t1 = np.array([1., 2., 3., 4., 5., 6., 7., 8., 9., 10.])\n",
    "t2 = np.array([1., 2., 3., 4., 5.])"
   ]
  },
  {
   "cell_type": "markdown",
   "metadata": {},
   "source": [
    "# Análisis"
   ]
  },
  {
   "cell_type": "markdown",
   "metadata": {},
   "source": [
    "1 min"
   ]
  },
  {
   "cell_type": "code",
   "execution_count": 57,
   "metadata": {},
   "outputs": [],
   "source": [
    "Dos_c = conteo(Dos) - R_amb\n",
    "Cuatro_c = conteo(Cuatro) - R_amb\n",
    "Ocho_c = conteo(Ocho) - R_amb\n",
    "B1_c = conteo(B1) - R_amb\n",
    "B2_c = conteo(B2) - R_amb\n",
    "B3_c = conteo(B3) - R_amb"
   ]
  },
  {
   "cell_type": "code",
   "execution_count": 69,
   "metadata": {},
   "outputs": [
    {
     "data": {
      "text/plain": [
       "array([[ 5.12333333,  5.29      ,  5.05666667,  4.59      ,  5.12333333,\n",
       "         5.07333333,  4.95666667,  4.59      ,  4.34      ,  4.97333333],\n",
       "       [ 1.62333333,  1.75666667,  1.95666667,  1.67333333,  1.42333333,\n",
       "         1.52333333,  1.59      ,  1.72333333,  1.44      ,  1.24      ],\n",
       "       [ 0.22333333,  0.15666667,  0.59      ,  0.42333333, -0.01      ,\n",
       "         0.10666667,  0.52333333,  0.49      ,  0.44      ,  0.27333333]])"
      ]
     },
     "execution_count": 69,
     "metadata": {},
     "output_type": "execute_result"
    }
   ],
   "source": [
    "frec_Dos_c = Dos_c / 60\n",
    "frec_Cuatro_c = Cuatro_c / 60\n",
    "frec_Ocho_c = Ocho_c / 60\n",
    "frec_B1_c = B1_c / 60\n",
    "frec_B2_c = B2_c / 60\n",
    "frec_B3_c = B3_c / 60\n",
    "M_1 = np.array([frec_Dos_c,frec_Cuatro_c,frec_Ocho_c])\n",
    "M_1"
   ]
  },
  {
   "cell_type": "code",
   "execution_count": 59,
   "metadata": {},
   "outputs": [
    {
     "data": {
      "text/plain": [
       "(4.911666666666666, 1.595, 0.32166666666666666)"
      ]
     },
     "execution_count": 59,
     "metadata": {},
     "output_type": "execute_result"
    }
   ],
   "source": [
    "P2,P4,P8 = promedios(M_1)\n",
    "(P2,P4,P8)"
   ]
  },
  {
   "cell_type": "code",
   "execution_count": 60,
   "metadata": {},
   "outputs": [
    {
     "data": {
      "text/plain": [
       "(0.28626425243509224, 0.19105700138382206, 0.1899488235171662)"
      ]
     },
     "execution_count": 60,
     "metadata": {},
     "output_type": "execute_result"
    }
   ],
   "source": [
    "SD2,SD4,SD8 = SDs(M_1)\n",
    "(SD2,SD4,SD8)"
   ]
  },
  {
   "cell_type": "markdown",
   "metadata": {},
   "source": [
    "3 min"
   ]
  },
  {
   "cell_type": "code",
   "execution_count": 61,
   "metadata": {},
   "outputs": [],
   "source": [
    "Dos_c3 = conteo3(Dos) - (3*R_amb)\n",
    "Cuatro_c3 = conteo3(Cuatro) - (3*R_amb)\n",
    "Ocho_c3 = conteo3(Ocho) - (3*R_amb)"
   ]
  },
  {
   "cell_type": "code",
   "execution_count": 62,
   "metadata": {},
   "outputs": [],
   "source": [
    "frec_Dos_c3 = (Dos_c3/3) / 60\n",
    "frec_Cuatro_c3 = (Cuatro_c3/3) / 60\n",
    "frec_Ocho_c3 = (Ocho_c3/3) / 60\n",
    "M_3 = np.array([frec_Dos_c3,frec_Cuatro_c3,frec_Ocho_c3])"
   ]
  },
  {
   "cell_type": "code",
   "execution_count": 63,
   "metadata": {},
   "outputs": [
    {
     "data": {
      "text/plain": [
       "(4.904814814814816, 1.6344444444444444, 0.32703703703703696)"
      ]
     },
     "execution_count": 63,
     "metadata": {},
     "output_type": "execute_result"
    }
   ],
   "source": [
    "P2_3,P4_3,P8_3 = promedios(M_3)\n",
    "(P2_3,P4_3,P8_3)"
   ]
  },
  {
   "cell_type": "code",
   "execution_count": 64,
   "metadata": {},
   "outputs": [
    {
     "data": {
      "text/plain": [
       "(0.21613578519209528, 0.10373676721600691, 0.12703757693438886)"
      ]
     },
     "execution_count": 64,
     "metadata": {},
     "output_type": "execute_result"
    }
   ],
   "source": [
    "SD2_3,SD4_3,SD8_3 = SDs(M_3)\n",
    "(SD2_3,SD4_3,SD8_3)"
   ]
  },
  {
   "cell_type": "markdown",
   "metadata": {},
   "source": [
    "10 min"
   ]
  },
  {
   "cell_type": "code",
   "execution_count": 65,
   "metadata": {},
   "outputs": [],
   "source": [
    "Dos_c10 = Dos[-1] - (10*R_amb)\n",
    "Cuatro_c10 = Cuatro[-1] - (10*R_amb)\n",
    "Ocho_c10 = Ocho[-1] - (10*R_amb)"
   ]
  },
  {
   "cell_type": "code",
   "execution_count": 66,
   "metadata": {},
   "outputs": [
    {
     "data": {
      "text/plain": [
       "(4.911666666666666, 1.595, 0.32166666666666666)"
      ]
     },
     "execution_count": 66,
     "metadata": {},
     "output_type": "execute_result"
    }
   ],
   "source": [
    "frec_Dos_c10 = (Dos_c10/10)/60\n",
    "frec_Cuatro_c10 = (Cuatro_c10/10)/60\n",
    "frec_Ocho_c10 = (Ocho_c10/10)/60\n",
    "(frec_Dos_c10,frec_Cuatro_c10,frec_Ocho_c10)"
   ]
  },
  {
   "cell_type": "markdown",
   "metadata": {},
   "source": [
    "Barreras"
   ]
  },
  {
   "cell_type": "code",
   "execution_count": null,
   "metadata": {},
   "outputs": [],
   "source": [
    "# B1 = papel\n",
    "# B2 = aluminio\n",
    "# B3 = plomo"
   ]
  },
  {
   "cell_type": "code",
   "execution_count": 67,
   "metadata": {},
   "outputs": [
    {
     "data": {
      "text/plain": [
       "(2.6, 0.1733333333333333, 0.19999999999999998)"
      ]
     },
     "execution_count": 67,
     "metadata": {},
     "output_type": "execute_result"
    }
   ],
   "source": [
    "M_B = np.array([frec_B1_c,frec_B2_c,frec_B3_c])\n",
    "P_B1,P_B2,P_B3 = promedios(M_B)\n",
    "(P_B1,P_B2,P_B3)"
   ]
  },
  {
   "cell_type": "code",
   "execution_count": 68,
   "metadata": {},
   "outputs": [
    {
     "data": {
      "text/plain": [
       "(0.10934146311237829, 0.09831920802501751, 0.04784233364802441)"
      ]
     },
     "execution_count": 68,
     "metadata": {},
     "output_type": "execute_result"
    }
   ],
   "source": [
    "S_B1,S_B2,S_B3 = SDs(M_B)\n",
    "(S_B1,S_B2,S_B3)"
   ]
  }
 ],
 "metadata": {
  "kernelspec": {
   "display_name": "base",
   "language": "python",
   "name": "python3"
  },
  "language_info": {
   "codemirror_mode": {
    "name": "ipython",
    "version": 3
   },
   "file_extension": ".py",
   "mimetype": "text/x-python",
   "name": "python",
   "nbconvert_exporter": "python",
   "pygments_lexer": "ipython3",
   "version": "3.9.7"
  }
 },
 "nbformat": 4,
 "nbformat_minor": 2
}
