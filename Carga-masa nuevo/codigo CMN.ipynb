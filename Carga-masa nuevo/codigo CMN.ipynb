{
 "cells": [
  {
   "cell_type": "code",
   "execution_count": 119,
   "metadata": {},
   "outputs": [
    {
     "data": {
      "text/html": [
       "<style>.container { width:90% !important; }</style>"
      ],
      "text/plain": [
       "<IPython.core.display.HTML object>"
      ]
     },
     "metadata": {},
     "output_type": "display_data"
    }
   ],
   "source": [
    "from IPython.display import display, HTML\n",
    "display(HTML(\"<style>.container { width:90% !important; }</style>\"))\n",
    "\n",
    "import numpy as np\n",
    "import matplotlib.pyplot as plt\n",
    "import sympy as sym\n",
    "import pandas as pd\n",
    "import openpyxl\n",
    "import scipy.optimize\n",
    "\n",
    "from scipy.stats import norm\n",
    "from scipy.stats import t\n",
    "from scipy.stats import chi2"
   ]
  },
  {
   "cell_type": "markdown",
   "metadata": {},
   "source": [
    "# Carga-masa nuevo"
   ]
  },
  {
   "cell_type": "code",
   "execution_count": 120,
   "metadata": {},
   "outputs": [],
   "source": [
    "def Minimos_cuadrados(x,y,n=1):\n",
    "    l = x.shape[0]\n",
    "    b = y\n",
    "    \n",
    "    A = np.ones((l,n+1))\n",
    "    \n",
    "    for i in range(1,n+1):\n",
    "        A[:,i] = x**i\n",
    "        \n",
    "    AT = np.dot(A.T,A)\n",
    "    bT = np.dot(A.T,b)\n",
    "\n",
    "    xsol = np.linalg.solve(AT,bT)\n",
    "    \n",
    "    return xsol\n",
    "\n",
    "def GetModel(x,p):\n",
    "    \n",
    "    y = 0.\n",
    "    for i in range(len(p)):\n",
    "        y += p[i]*x**i\n",
    "        \n",
    "    return y\n",
    "\n",
    "def GetError(x,y,p,n=1):\n",
    "    \n",
    "    l = x.shape[0]\n",
    "    \n",
    "    A = np.ones((l,n+1))\n",
    "    \n",
    "    for i in range(1,n+1):\n",
    "        A[:,i] = x**i\n",
    "        \n",
    "    # Residuos\n",
    "    R = y - np.dot(A,p)\n",
    "    \n",
    "    sigma2 = np.dot(R.T,R)/(len(y)-len(p))\n",
    "    \n",
    "    Cov = sigma2*np.linalg.inv(np.dot(A.T,A))\n",
    "    \n",
    "    R2 = None\n",
    "    if np.shape(Cov) == (2,2):\n",
    "        R2 = (Cov[0][1]**2)/(Cov[0][0]*Cov[1][1])\n",
    "\n",
    "    return (Cov,R2,R)\n",
    "\n",
    "def Get_sigma(Cov):\n",
    "    sigmaai = np.sqrt(np.diagonal(Cov))\n",
    "    return sigmaai[::-1]\n",
    "\n",
    "def Error_relativo(X_real,X_exp):\n",
    "    return (np.abs(X_exp - X_real)/X_real)\n",
    "\n",
    "def presicion(d,v):\n",
    "    p = (d/v)\n",
    "    if p <= 0.1:\n",
    "        return p,True\n",
    "    else:\n",
    "        return p,False\n",
    "    \n",
    "def exactitud(xr,xm,d):\n",
    "    e = (np.abs(xr-xm))\n",
    "    if e <= (2.5*d):\n",
    "        return e/d,True\n",
    "    else:\n",
    "        return e/d,False\n",
    "    \n",
    "def Promedio(lista):\n",
    "    return np.sum(lista) / len(lista)\n",
    "\n",
    "def promedios(M):\n",
    "    P = []\n",
    "    for i in M:\n",
    "        P.append(Promedio(i))\n",
    "    return tuple(P)\n",
    "\n",
    "def Standard_Deviation(lista):\n",
    "    return np.sqrt(np.sum((lista-Promedio(lista))**2) / len(lista))\n",
    "\n",
    "def SDs(M):\n",
    "    S = []\n",
    "    for i in M:\n",
    "        S.append(Standard_Deviation(i))\n",
    "    return tuple(S)\n",
    "\n",
    "X = sym.Symbol('x',real=True)\n",
    "Y = sym.Symbol('y',real=True)"
   ]
  },
  {
   "cell_type": "code",
   "execution_count": 121,
   "metadata": {},
   "outputs": [],
   "source": [
    "c = 299798458*1e09 #nm/s\n",
    "c_ = 299798458 #m/s\n",
    "me = 0.51099895*1e06/(c**2) #eV/c**2\n",
    "me_ = 0.51099895*1e06/(c_**2) #eV/c**2\n",
    "mp = 938.27208816*1e06/(c**2) #eV/c**2\n",
    "mn = 939.56542052*1e06/(c**2) #eV/c**2\n",
    "h = 4.136667696*1e-15 #eV*s\n",
    "h_barra = 6.582119569*1e-16 #eV*s\n",
    "e_0 = 55.26349406*1e-03 #e**2/(cV*nm)\n",
    "e = 1 #e\n",
    "a_0 = 0.0529177210903 #nm\n",
    "Ry = 13.605693122994 #eV\n",
    "Miu_B = 5.7883818066*1e-05 #eV/T\n",
    "miu = 1.25663706212*(10**(-6))\n",
    "real = 1.75882001076*(1e11)"
   ]
  },
  {
   "cell_type": "markdown",
   "metadata": {},
   "source": [
    "# Datos"
   ]
  },
  {
   "cell_type": "code",
   "execution_count": 122,
   "metadata": {},
   "outputs": [],
   "source": [
    "I = np.array([1, 2, 3, 4, 4.19])\n",
    "B = (np.array([0.73, 1.43, 2.07, 2.74, 2.88])-0.04)*(10**(-3))\n",
    "I_ = np.linspace(np.min(I),np.max(I))\n",
    "#B_ = lambda x: (miu*x*152)/(0.2)\n",
    "B_ = lambda x: (miu*x*152*(0.2**2))/(((0.075**2)+(0.2**2))**(3/2))\n",
    "\n",
    "Volt = 323\n",
    "r = np.array([4, 6, 8, 10])*0.5*0.01\n",
    "current = np.array([4.18, 2.81, 2.07, 1.62])\n",
    "campo = (np.array([2.87, 2, 1.44, 1.17])-0.04)*(10**(-3))\n",
    "\n",
    "V2 = np.array([100, 125, 150, 175, 200, 225, 250, 275])\n",
    "B2 = (np.array([1.66, 1.89, 2.1, 2.24, 2.39, 2.56, 2.70, 2.81])-0.04)*(10**(-3))\n",
    "I2 = np.array([2.31, 2.64, 2.93, 3.16, 3.38, 3.65, 3.84, 4.05])\n",
    "Reg2 = ((B2**2)*(r[0]**2))/2\n",
    "\n",
    "V3 = np.array([150, 175, 200, 225, 250, 275])\n",
    "B3 = (np.array([1.15, 1.35, 1.51, 1.63, 1.72, 1.82])-0.04)*(10**(-3))\n",
    "I3 = np.array([1.56, 1.88, 2.09, 2.26, 2.4, 2.54])\n",
    "Reg3 = ((B3**2)*(r[1]**2))/2\n",
    "\n",
    "V4 = np.array([150, 175, 200, 225, 250, 275])\n",
    "B4 = (np.array([0.92, 1.03, 1.15, 1.23, 1.31, 1.38])-0.04)*(10**(-3))\n",
    "I4 = np.array([1.24, 1.4, 1.57, 1.69, 1.8, 1.9])\n",
    "Reg4 = ((B4**2)*(r[2]**2))/2\n",
    "\n",
    "V5 = np.array([150, 175, 200, 225, 250, 275])\n",
    "B5 = (np.array([0.74, 0.83, 0.92, 0.99, 1.05, 1.11])-0.04)*(10**(-3))\n",
    "I5 = np.array([0.99, 1.12, 1.23, 1.34, 1.43, 1.51])\n",
    "Reg5 = ((B5**2)*(r[3]**2))/2"
   ]
  },
  {
   "cell_type": "markdown",
   "metadata": {},
   "source": [
    "Campo de un par de bobinas"
   ]
  },
  {
   "cell_type": "code",
   "execution_count": 123,
   "metadata": {},
   "outputs": [
    {
     "data": {
      "text/plain": [
       "array([0.78398748, 1.56797496, 2.35196244, 3.13594992, 3.28490754])"
      ]
     },
     "execution_count": 123,
     "metadata": {},
     "output_type": "execute_result"
    }
   ],
   "source": [
    "B_(I)*1000"
   ]
  },
  {
   "cell_type": "code",
   "execution_count": 124,
   "metadata": {},
   "outputs": [
    {
     "data": {
      "text/plain": [
       "0.3262402797751238"
      ]
     },
     "execution_count": 124,
     "metadata": {},
     "output_type": "execute_result"
    }
   ],
   "source": [
    "error0 = np.sqrt(np.sum(((B_(I)-B)*1000)**2)/len(I))\n",
    "error0"
   ]
  },
  {
   "cell_type": "code",
   "execution_count": 125,
   "metadata": {},
   "outputs": [
    {
     "data": {
      "text/plain": [
       "<matplotlib.lines.Line2D at 0x1ad2f963a30>"
      ]
     },
     "execution_count": 125,
     "metadata": {},
     "output_type": "execute_result"
    },
    {
     "data": {
      "image/png": "[encoded data removed]",
      "text/plain": [
       "<Figure size 720x432 with 2 Axes>"
      ]
     },
     "metadata": {
      "needs_background": "light"
     },
     "output_type": "display_data"
    }
   ],
   "source": [
    "fig, axs = plt.subplots(2, 1, figsize=(10, 6), gridspec_kw={'height_ratios': [1.5, 1]},sharex=True)\n",
    "fig.subplots_adjust(hspace=0)\n",
    "fig.suptitle('Campo magnético en función de la corriente')\n",
    "\n",
    "axs[0].set_ylabel('Campo magnético (mT)')\n",
    "axs[0].scatter(I,B*1000,marker='x',color='r',label='Datos')\n",
    "#axs[0].scatter(I,B_(I)*1000)\n",
    "axs[0].plot(I_,B_(I_)*1000,label='Modelo')\n",
    "axs[0].legend()\n",
    "\n",
    "axs[1].set_ylabel('Residual (mT)')\n",
    "axs[1].set_xlabel('Corriente (A)')\n",
    "axs[1].scatter(I,(B_(I)-B)*1000)\n",
    "axs[1].axhline(y=0, color='black', linestyle='--')"
   ]
  },
  {
   "cell_type": "markdown",
   "metadata": {},
   "source": [
    "Carga masa"
   ]
  },
  {
   "cell_type": "markdown",
   "metadata": {},
   "source": [
    "promedio"
   ]
  },
  {
   "cell_type": "code",
   "execution_count": 126,
   "metadata": {},
   "outputs": [
    {
     "name": "stderr",
     "output_type": "stream",
     "text": [
      "C:\\Users\\ASUS\\AppData\\Local\\Temp/ipykernel_1444/1331970292.py:7: VisibleDeprecationWarning: Creating an ndarray from ragged nested sequences (which is a list-or-tuple of lists-or-tuples-or ndarrays with different lengths or shapes) is deprecated. If you meant to do this, you must specify 'dtype=object' when creating the ndarray.\n",
      "  RCM = np.array([RCM2,RCM3,RCM4,RCM5])\n"
     ]
    },
    {
     "data": {
      "text/plain": [
       "array([1.80594230e+11, 2.15053386e+11, 2.08669914e+11, 2.10582378e+11])"
      ]
     },
     "execution_count": 126,
     "metadata": {},
     "output_type": "execute_result"
    }
   ],
   "source": [
    "rcm = lambda r,v,b : (2*v)/((b**2)*(r**2))\n",
    "\n",
    "RCM2 = rcm(r[0],V2,B2)\n",
    "RCM3 = rcm(r[1],V3,B3)\n",
    "RCM4 = rcm(r[2],V4,B4)\n",
    "RCM5 = rcm(r[3],V5,B5)\n",
    "RCM = np.array([RCM2,RCM3,RCM4,RCM5])\n",
    "P = np.array(promedios(RCM))\n",
    "P"
   ]
  },
  {
   "cell_type": "code",
   "execution_count": 127,
   "metadata": {},
   "outputs": [
    {
     "data": {
      "text/plain": [
       "array([4.28620339e+09, 2.71491888e+10, 1.81837345e+10, 1.85138945e+10])"
      ]
     },
     "execution_count": 127,
     "metadata": {},
     "output_type": "execute_result"
    }
   ],
   "source": [
    "sd = np.array(SDs(RCM))\n",
    "sd"
   ]
  },
  {
   "cell_type": "code",
   "execution_count": 128,
   "metadata": {},
   "outputs": [
    {
     "data": {
      "text/plain": [
       "array([1.81, 2.15, 2.09, 2.11])"
      ]
     },
     "execution_count": 128,
     "metadata": {},
     "output_type": "execute_result"
    }
   ],
   "source": [
    "np.round(P*(1e-11),2)"
   ]
  },
  {
   "cell_type": "code",
   "execution_count": 129,
   "metadata": {},
   "outputs": [
    {
     "data": {
      "text/plain": [
       "array([0.04, 0.27, 0.18, 0.19])"
      ]
     },
     "execution_count": 129,
     "metadata": {},
     "output_type": "execute_result"
    }
   ],
   "source": [
    "np.round(sd*(1e-11),2)"
   ]
  },
  {
   "cell_type": "code",
   "execution_count": 130,
   "metadata": {},
   "outputs": [
    {
     "name": "stdout",
     "output_type": "stream",
     "text": [
      "(0.023733888936993682, True)\n",
      "(0.12624394981569997, False)\n",
      "(0.08714114154167715, True)\n",
      "(0.08791758692738412, True)\n"
     ]
    }
   ],
   "source": [
    "for i in range(4):\n",
    "    print(presicion(sd[i],P[i]))"
   ]
  },
  {
   "cell_type": "code",
   "execution_count": 131,
   "metadata": {},
   "outputs": [
    {
     "name": "stdout",
     "output_type": "stream",
     "text": [
      "(1.0993945556999996, True)\n",
      "(1.442819699711773, True)\n",
      "(1.8031451564994436, True)\n",
      "(1.8742883562459152, True)\n"
     ]
    }
   ],
   "source": [
    "for i in range(4):\n",
    "    print(exactitud(real,P[i],sd[i]))"
   ]
  },
  {
   "cell_type": "markdown",
   "metadata": {},
   "source": [
    "linear regresion"
   ]
  },
  {
   "cell_type": "code",
   "execution_count": 132,
   "metadata": {},
   "outputs": [
    {
     "name": "stderr",
     "output_type": "stream",
     "text": [
      "C:\\Users\\ASUS\\AppData\\Local\\Temp/ipykernel_1444/4133109823.py:1: VisibleDeprecationWarning: Creating an ndarray from ragged nested sequences (which is a list-or-tuple of lists-or-tuples-or ndarrays with different lengths or shapes) is deprecated. If you meant to do this, you must specify 'dtype=object' when creating the ndarray.\n",
      "  V = np.array([V2,V3,V4,V5])\n",
      "C:\\Users\\ASUS\\AppData\\Local\\Temp/ipykernel_1444/4133109823.py:2: VisibleDeprecationWarning: Creating an ndarray from ragged nested sequences (which is a list-or-tuple of lists-or-tuples-or ndarrays with different lengths or shapes) is deprecated. If you meant to do this, you must specify 'dtype=object' when creating the ndarray.\n",
      "  REG = np.array([Reg2,Reg3,Reg4,Reg5])\n"
     ]
    },
    {
     "data": {
      "image/png": "[encoded data removed]",
      "text/plain": [
       "<Figure size 576x360 with 2 Axes>"
      ]
     },
     "metadata": {
      "needs_background": "light"
     },
     "output_type": "display_data"
    }
   ],
   "source": [
    "V = np.array([V2,V3,V4,V5])\n",
    "REG = np.array([Reg2,Reg3,Reg4,Reg5])\n",
    "m = []\n",
    "dm = []\n",
    "R2 = []\n",
    "Models = []\n",
    "Residuals = []\n",
    "X = []\n",
    "for i in range(4):\n",
    "    param = Minimos_cuadrados(REG[i],V[i])\n",
    "    Cov,r2,res = GetError(REG[i],V[i],param)\n",
    "    deltas = Get_sigma(Cov)\n",
    "    m.append(param[-1])\n",
    "    dm.append(deltas[0])\n",
    "    _x = np.linspace(np.min(REG[i]),np.max(REG[i]))\n",
    "    X.append(_x)\n",
    "    Models.append(GetModel(_x,param))\n",
    "    Residuals.append(res)\n",
    "    R2.append(r2)\n",
    "\n",
    "fig, axs = plt.subplots(2, 1, figsize=(8, 5), gridspec_kw={'height_ratios': [1.5, 1]},sharex=True)\n",
    "fig.subplots_adjust(hspace=0)\n",
    "fig.suptitle('Relación carga-masa')\n",
    "\n",
    "for i in range(4):\n",
    "    axs[0].scatter(REG[i],V[i],marker='x',label=str(r[i]*100)+'cm')\n",
    "    axs[0].plot(X[i],Models[i])\n",
    "    axs[1].scatter(REG[i],Residuals[i]) \n",
    "axs[0].set_ylabel('Voltage (V)')\n",
    "axs[0].legend()\n",
    "axs[1].axhline(y=0, color='black', linestyle='--')\n",
    "axs[1].set_xlabel(r'$\\frac{1}{2} B^{2}r^{2}$'+ r'$(T^{2}m^{2})$')\n",
    "axs[1].set_ylabel('Residual (V)')\n",
    "plt.show()"
   ]
  },
  {
   "cell_type": "code",
   "execution_count": 133,
   "metadata": {},
   "outputs": [
    {
     "data": {
      "text/plain": [
       "array([1.73, 1.44, 1.52, 1.52])"
      ]
     },
     "execution_count": 133,
     "metadata": {},
     "output_type": "execute_result"
    }
   ],
   "source": [
    "np.round(np.array(m)*(1e-11),2)"
   ]
  },
  {
   "cell_type": "code",
   "execution_count": 134,
   "metadata": {},
   "outputs": [
    {
     "data": {
      "text/plain": [
       "array([0.03, 0.07, 0.04, 0.03])"
      ]
     },
     "execution_count": 134,
     "metadata": {},
     "output_type": "execute_result"
    }
   ],
   "source": [
    "np.round(np.array(dm)*(1e-11),2)"
   ]
  },
  {
   "cell_type": "code",
   "execution_count": 135,
   "metadata": {},
   "outputs": [
    {
     "name": "stdout",
     "output_type": "stream",
     "text": [
      "(0.015169645015129756, True)\n",
      "(0.046484884100814694, True)\n",
      "(0.02601777635498131, True)\n",
      "(0.020272382351262108, True)\n"
     ]
    }
   ],
   "source": [
    "for i in range(4):\n",
    "    print(presicion(dm[i],m[i]))"
   ]
  },
  {
   "cell_type": "code",
   "execution_count": 136,
   "metadata": {},
   "outputs": [
    {
     "name": "stdout",
     "output_type": "stream",
     "text": [
      "(1.0959032598430285, True)\n",
      "(4.724087713706723, False)\n",
      "(6.113922647883533, False)\n",
      "(7.662161523317357, False)\n"
     ]
    }
   ],
   "source": [
    "for i in range(4):\n",
    "    print(exactitud(real,m[i],dm[i]))"
   ]
  }
 ],
 "metadata": {
  "kernelspec": {
   "display_name": "base",
   "language": "python",
   "name": "python3"
  },
  "language_info": {
   "codemirror_mode": {
    "name": "ipython",
    "version": 3
   },
   "file_extension": ".py",
   "mimetype": "text/x-python",
   "name": "python",
   "nbconvert_exporter": "python",
   "pygments_lexer": "ipython3",
   "version": "3.9.7"
  }
 },
 "nbformat": 4,
 "nbformat_minor": 2
}
