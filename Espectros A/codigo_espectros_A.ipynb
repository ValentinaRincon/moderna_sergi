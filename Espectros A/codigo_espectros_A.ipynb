{
 "cells": [
  {
   "cell_type": "code",
   "execution_count": 85,
   "metadata": {},
   "outputs": [
    {
     "data": {
      "text/html": [
       "<style>.container { width:90% !important; }</style>"
      ],
      "text/plain": [
       "<IPython.core.display.HTML object>"
      ]
     },
     "metadata": {},
     "output_type": "display_data"
    }
   ],
   "source": [
    "from IPython.display import display, HTML\n",
    "display(HTML(\"<style>.container { width:90% !important; }</style>\"))\n",
    "\n",
    "import numpy as np\n",
    "import matplotlib.pyplot as plt\n",
    "import sympy as sym\n",
    "import pandas as pd\n",
    "import openpyxl\n",
    "import scipy.optimize\n",
    "\n",
    "from scipy.stats import norm\n",
    "from scipy.stats import t\n",
    "from scipy.stats import chi2"
   ]
  },
  {
   "cell_type": "markdown",
   "metadata": {},
   "source": [
    "# Espectros A"
   ]
  },
  {
   "cell_type": "code",
   "execution_count": 86,
   "metadata": {},
   "outputs": [],
   "source": [
    "def Minimos_cuadrados(x,y,n=1):\n",
    "    l = x.shape[0]\n",
    "    b = y\n",
    "    \n",
    "    A = np.ones((l,n+1))\n",
    "    \n",
    "    for i in range(1,n+1):\n",
    "        A[:,i] = x**i\n",
    "        \n",
    "    AT = np.dot(A.T,A)\n",
    "    bT = np.dot(A.T,b)\n",
    "\n",
    "    xsol = np.linalg.solve(AT,bT)\n",
    "    \n",
    "    return xsol\n",
    "\n",
    "def GetModel(x,p):\n",
    "    \n",
    "    y = 0.\n",
    "    for i in range(len(p)):\n",
    "        y += p[i]*x**i\n",
    "        \n",
    "    return y\n",
    "\n",
    "def GetError(x,y,p,n=1):\n",
    "    \n",
    "    l = x.shape[0]\n",
    "    \n",
    "    A = np.ones((l,n+1))\n",
    "    \n",
    "    for i in range(1,n+1):\n",
    "        A[:,i] = x**i\n",
    "        \n",
    "    # Residuos\n",
    "    R = y - np.dot(A,p)\n",
    "    \n",
    "    sigma2 = np.dot(R.T,R)/(len(y)-len(p))\n",
    "    \n",
    "    Cov = sigma2*np.linalg.inv(np.dot(A.T,A))\n",
    "    \n",
    "    R2 = None\n",
    "    if np.shape(Cov) == (2,2):\n",
    "        R2 = (Cov[0][1]**2)/(Cov[0][0]*Cov[1][1])\n",
    "\n",
    "    return (Cov,R2,R)\n",
    "\n",
    "def Get_sigma(Cov):\n",
    "    sigmaai = np.sqrt(np.diagonal(Cov))\n",
    "    return sigmaai[::-1]\n",
    "\n",
    "def Error_relativo(X_real,X_exp):\n",
    "    return (np.abs(X_exp - X_real)/X_real)\n",
    "\n",
    "def presicion(d,v):\n",
    "    p = (d/v)\n",
    "    if p <= 0.1:\n",
    "        return p,True\n",
    "    else:\n",
    "        return p,False\n",
    "    \n",
    "def exactitud(xr,xm,d):\n",
    "    e = (np.abs(xr-xm))\n",
    "    if e <= (2.5*d):\n",
    "        return e/d,True\n",
    "    else:\n",
    "        return e/d,False\n",
    "\n",
    "X = sym.Symbol('x',real=True)\n",
    "Y = sym.Symbol('y',real=True)"
   ]
  },
  {
   "cell_type": "code",
   "execution_count": 87,
   "metadata": {},
   "outputs": [],
   "source": [
    "c = 299798458*1e09 #nm/s\n",
    "c_ = 299798458 #m/s\n",
    "me = 0.51099895*1e06/(c**2) #eV/c**2\n",
    "me_ = 0.51099895*1e06/(c_**2) #eV/c**2\n",
    "mp = 938.27208816*1e06/(c**2) #eV/c**2\n",
    "mn = 939.56542052*1e06/(c**2) #eV/c**2\n",
    "h = 4.136667696*1e-15 #eV*s\n",
    "h_barra = 6.582119569*1e-16 #eV*s\n",
    "e_0 = 55.26349406*1e-03 #e**2/(cV*nm)\n",
    "e = 1 #e\n",
    "a_0 = 0.0529177210903 #nm\n",
    "Ry = 13.605693122994 #eV\n",
    "Miu_B = 5.7883818066*1e-05 #eV/T"
   ]
  },
  {
   "cell_type": "markdown",
   "metadata": {},
   "source": [
    "# Datos"
   ]
  },
  {
   "cell_type": "code",
   "execution_count": 88,
   "metadata": {},
   "outputs": [],
   "source": [
    "H_ = np.array([434.0472, 486.1298, 656.279])\n",
    "err_angulo = 0.05"
   ]
  },
  {
   "cell_type": "markdown",
   "metadata": {},
   "source": [
    "Prisma:"
   ]
  },
  {
   "cell_type": "code",
   "execution_count": 89,
   "metadata": {},
   "outputs": [],
   "source": [
    "a = np.pi/3\n",
    "P = np.array([40.4, 40., 39.1])*(np.pi/180)"
   ]
  },
  {
   "cell_type": "markdown",
   "metadata": {},
   "source": [
    "Rejilla:"
   ]
  },
  {
   "cell_type": "code",
   "execution_count": 90,
   "metadata": {},
   "outputs": [],
   "source": [
    "R = np.array([14.2, 16., 22.3])*(np.pi/180)"
   ]
  },
  {
   "cell_type": "markdown",
   "metadata": {},
   "source": [
    "Sodio:"
   ]
  },
  {
   "cell_type": "code",
   "execution_count": 91,
   "metadata": {},
   "outputs": [],
   "source": [
    "S = 19.8*(np.pi/180)"
   ]
  },
  {
   "cell_type": "markdown",
   "metadata": {},
   "source": [
    "# Análisis"
   ]
  },
  {
   "cell_type": "markdown",
   "metadata": {},
   "source": [
    "Índice de refracción del prisma"
   ]
  },
  {
   "cell_type": "code",
   "execution_count": 92,
   "metadata": {},
   "outputs": [
    {
     "data": {
      "text/plain": [
       "array([0.03200548, 0.03213938, 0.03243921])"
      ]
     },
     "execution_count": 92,
     "metadata": {},
     "output_type": "execute_result"
    }
   ],
   "source": [
    "def indice_n (d):\n",
    "    return (np.sin((a+d)/2))*2\n",
    "\n",
    "def err_n (d):\n",
    "    return (np.cos((a+d)/2))*err_angulo\n",
    "\n",
    "n = indice_n(P)\n",
    "e_n = err_n(P)\n",
    "e_n"
   ]
  },
  {
   "cell_type": "code",
   "execution_count": 93,
   "metadata": {},
   "outputs": [
    {
     "data": {
      "text/plain": [
       "Text(0.5, 1.0, 'Índice de refracción según longitud de onda')"
      ]
     },
     "execution_count": 93,
     "metadata": {},
     "output_type": "execute_result"
    },
    {
     "data": {
      "image/png": "[encoded data removed]",
      "text/plain": [
       "<Figure size 720x432 with 1 Axes>"
      ]
     },
     "metadata": {
      "needs_background": "light"
     },
     "output_type": "display_data"
    }
   ],
   "source": [
    "plt.figure(figsize=(10,6))\n",
    "plt.scatter(H_,n)\n",
    "plt.errorbar(H_,n, yerr= e_n, fmt='none', ecolor='black')\n",
    "plt.ylabel('Índice de refracción')\n",
    "plt.xlabel('Longitud de onda (nm)')\n",
    "plt.title('Índice de refracción según longitud de onda')"
   ]
  },
  {
   "cell_type": "code",
   "execution_count": 94,
   "metadata": {},
   "outputs": [
    {
     "data": {
      "text/plain": [
       "Text(0.5, 1.0, 'Índice de refracción según el inverso de longitud de onda al cuadrado')"
      ]
     },
     "execution_count": 94,
     "metadata": {},
     "output_type": "execute_result"
    },
    {
     "data": {
      "image/png": "[encoded data removed]",
      "text/plain": [
       "<Figure size 720x432 with 1 Axes>"
      ]
     },
     "metadata": {
      "needs_background": "light"
     },
     "output_type": "display_data"
    }
   ],
   "source": [
    "inv_cuadrado = 1/(H_**2)\n",
    "plt.figure(figsize=(10,6))\n",
    "plt.scatter(inv_cuadrado,n)\n",
    "plt.ylabel('Índice de refracción')\n",
    "plt.xlabel(r'$1/\\lambda^{2}$')\n",
    "plt.title('Índice de refracción según el inverso de longitud de onda al cuadrado')"
   ]
  },
  {
   "cell_type": "markdown",
   "metadata": {},
   "source": [
    "Ajustes"
   ]
  },
  {
   "cell_type": "code",
   "execution_count": 95,
   "metadata": {},
   "outputs": [
    {
     "data": {
      "text/plain": [
       "(1.5106497366102063, 4944.8087704389045)"
      ]
     },
     "execution_count": 95,
     "metadata": {},
     "output_type": "execute_result"
    }
   ],
   "source": [
    "def ajuste_1 (H_,A,B):\n",
    "    return A + B/(H_**2)\n",
    "popt, pcov = scipy.optimize.curve_fit(ajuste_1,H_,n)\n",
    "A,B = popt\n",
    "perr = np.sqrt(np.diag(pcov))\n",
    "fitfunc = lambda H_: A + B/(H_**2)\n",
    "(A,B)"
   ]
  },
  {
   "cell_type": "code",
   "execution_count": 96,
   "metadata": {},
   "outputs": [
    {
     "data": {
      "text/plain": [
       "array([[ 1.53171615e-06, -3.52979014e-01],\n",
       "       [-3.52979014e-01,  8.92770647e+04]])"
      ]
     },
     "execution_count": 96,
     "metadata": {},
     "output_type": "execute_result"
    }
   ],
   "source": [
    "pcov"
   ]
  },
  {
   "cell_type": "code",
   "execution_count": 97,
   "metadata": {},
   "outputs": [
    {
     "data": {
      "text/plain": [
       "array([1.23762521e-03, 2.98792678e+02])"
      ]
     },
     "execution_count": 97,
     "metadata": {},
     "output_type": "execute_result"
    }
   ],
   "source": [
    "perr"
   ]
  },
  {
   "cell_type": "code",
   "execution_count": 98,
   "metadata": {},
   "outputs": [
    {
     "data": {
      "image/png": "[encoded data removed]",
      "text/plain": [
       "<Figure size 864x576 with 2 Axes>"
      ]
     },
     "metadata": {
      "needs_background": "light"
     },
     "output_type": "display_data"
    }
   ],
   "source": [
    "x_ = np.linspace(np.min(H_),np.max(H_),50)\n",
    "\n",
    "fig, axs = plt.subplots(2, 1, figsize=(12, 8), gridspec_kw={'height_ratios': [1.5, 1]},sharex=True)\n",
    "fig.subplots_adjust(hspace=0)\n",
    "fig.suptitle('Índice de refracción según el ajuste 1')\n",
    "\n",
    "axs[0].scatter(H_,n,label='Datos',color='r',marker='x')\n",
    "axs[0].plot(x_,fitfunc(x_),label='Modelo 1')\n",
    "axs[0].errorbar(H_,n, yerr= e_n, fmt='none', ecolor='black')\n",
    "axs[0].set_ylabel('Índice de refracción')\n",
    "axs[0].legend()\n",
    "\n",
    "axs[1].scatter(H_,n-fitfunc(H_))\n",
    "axs[1].axhline(y=0, color='black', linestyle='--')\n",
    "axs[1].set_xlabel('Longitud de onda (nm)')\n",
    "axs[1].set_ylabel('Residual')\n",
    "\n",
    "plt.show()"
   ]
  },
  {
   "cell_type": "markdown",
   "metadata": {},
   "source": [
    "Ajuste 2"
   ]
  },
  {
   "cell_type": "code",
   "execution_count": 99,
   "metadata": {},
   "outputs": [
    {
     "name": "stderr",
     "output_type": "stream",
     "text": [
      "c:\\Users\\ASUS\\anaconda3\\lib\\site-packages\\scipy\\optimize\\minpack.py:833: OptimizeWarning: Covariance of the parameters could not be estimated\n",
      "  warnings.warn('Covariance of the parameters could not be estimated',\n"
     ]
    },
    {
     "data": {
      "text/plain": [
       "(1.510649736681317, 4944.808748623447, 1.0)"
      ]
     },
     "execution_count": 99,
     "metadata": {},
     "output_type": "execute_result"
    }
   ],
   "source": [
    "def ajuste_2 (H_,A_,B_,C_):\n",
    "    return A_ + B_/(H_**2) + C_/(H_**4)\n",
    "popt, pcov = scipy.optimize.curve_fit(ajuste_2,H_,n)\n",
    "A_,B_,C_ = popt\n",
    "perr = np.sqrt(np.diag(pcov))\n",
    "fitfunc_2 = lambda H_: A + B/(H_**2) + C_/(H_**4)\n",
    "(A_,B_,C_)"
   ]
  },
  {
   "cell_type": "code",
   "execution_count": 100,
   "metadata": {},
   "outputs": [
    {
     "data": {
      "text/plain": [
       "array([[inf, inf, inf],\n",
       "       [inf, inf, inf],\n",
       "       [inf, inf, inf]])"
      ]
     },
     "execution_count": 100,
     "metadata": {},
     "output_type": "execute_result"
    }
   ],
   "source": [
    "pcov"
   ]
  },
  {
   "cell_type": "code",
   "execution_count": 101,
   "metadata": {},
   "outputs": [
    {
     "data": {
      "text/plain": [
       "array([inf, inf, inf])"
      ]
     },
     "execution_count": 101,
     "metadata": {},
     "output_type": "execute_result"
    }
   ],
   "source": [
    "perr"
   ]
  },
  {
   "cell_type": "code",
   "execution_count": 102,
   "metadata": {},
   "outputs": [
    {
     "data": {
      "image/png": "[encoded data removed]",
      "text/plain": [
       "<Figure size 864x576 with 2 Axes>"
      ]
     },
     "metadata": {
      "needs_background": "light"
     },
     "output_type": "display_data"
    }
   ],
   "source": [
    "x_ = np.linspace(np.min(H_),np.max(H_),50)\n",
    "\n",
    "fig, axs = plt.subplots(2, 1, figsize=(12, 8), gridspec_kw={'height_ratios': [1.5, 1]},sharex=True)\n",
    "fig.subplots_adjust(hspace=0)\n",
    "fig.suptitle('Índice de refracción según el ajuste 2')\n",
    "\n",
    "axs[0].scatter(H_,n,label='Datos',color='r',marker='x')\n",
    "axs[0].plot(x_,fitfunc_2(x_),label='Modelo 2')\n",
    "axs[0].errorbar(H_,n, yerr= e_n, fmt='none', ecolor='black')\n",
    "axs[0].set_ylabel('Índice de refracción')\n",
    "axs[0].legend()\n",
    "\n",
    "axs[1].scatter(H_,n-fitfunc_2(H_))\n",
    "axs[1].axhline(y=0, color='black', linestyle='--')\n",
    "axs[1].set_xlabel('Longitud de onda (nm)')\n",
    "axs[1].set_ylabel('Residual')\n",
    "\n",
    "plt.show()"
   ]
  },
  {
   "cell_type": "markdown",
   "metadata": {},
   "source": [
    "Constante de Rydberg prisma modelo 1."
   ]
  },
  {
   "cell_type": "code",
   "execution_count": 103,
   "metadata": {},
   "outputs": [
    {
     "data": {
      "text/plain": [
       "array([436.7971378 , 480.25398013, 661.65165317])"
      ]
     },
     "execution_count": 103,
     "metadata": {},
     "output_type": "execute_result"
    }
   ],
   "source": [
    "def lambdas (n):\n",
    "    return np.sqrt(B/(n-A))\n",
    "\n",
    "def err_lamb (n,err_n):\n",
    "    return 0.5*((B/(n-A))**(-0.5))*(B/((n-A)**2))*err_n\n",
    "\n",
    "l = lambdas(n)\n",
    "e_l = np.array([err_lamb(n[0],e_n[0]), err_lamb(n[1],e_n[1]), err_lamb(n[2],e_n[2])])\n",
    "l"
   ]
  },
  {
   "cell_type": "code",
   "execution_count": 104,
   "metadata": {},
   "outputs": [
    {
     "data": {
      "text/plain": [
       "array([0.21      , 0.1875    , 0.13888889])"
      ]
     },
     "execution_count": 104,
     "metadata": {},
     "output_type": "execute_result"
    }
   ],
   "source": [
    "xR = []\n",
    "for i in range(5,2,-1):\n",
    "    xR.append((1/(2**2)) - (1/(i**2)))\n",
    "xR = np.array(xR)\n",
    "xR"
   ]
  },
  {
   "cell_type": "code",
   "execution_count": 105,
   "metadata": {},
   "outputs": [
    {
     "data": {
      "text/plain": [
       "array([0.00228939, 0.00208223, 0.00151137])"
      ]
     },
     "execution_count": 105,
     "metadata": {},
     "output_type": "execute_result"
    }
   ],
   "source": [
    "l_i = 1/l\n",
    "l_i"
   ]
  },
  {
   "cell_type": "code",
   "execution_count": 106,
   "metadata": {},
   "outputs": [
    {
     "data": {
      "text/plain": [
       "array([-1.81810851e-05,  1.10694620e-02])"
      ]
     },
     "execution_count": 106,
     "metadata": {},
     "output_type": "execute_result"
    }
   ],
   "source": [
    "param = Minimos_cuadrados(xR,l_i)\n",
    "param"
   ]
  },
  {
   "cell_type": "code",
   "execution_count": 109,
   "metadata": {},
   "outputs": [
    {
     "data": {
      "text/plain": [
       "array([0.00060621, 0.00010987])"
      ]
     },
     "execution_count": 109,
     "metadata": {},
     "output_type": "execute_result"
    }
   ],
   "source": [
    "Cov,R2,r = GetError(xR,l_i,param)\n",
    "deltas = Get_sigma(Cov)\n",
    "deltas"
   ]
  },
  {
   "cell_type": "code",
   "execution_count": 110,
   "metadata": {},
   "outputs": [
    {
     "data": {
      "text/plain": [
       "0.9731900154587662"
      ]
     },
     "execution_count": 110,
     "metadata": {},
     "output_type": "execute_result"
    }
   ],
   "source": [
    "R2"
   ]
  },
  {
   "cell_type": "code",
   "execution_count": 111,
   "metadata": {},
   "outputs": [],
   "source": [
    "_x = np.linspace(np.min(xR),np.max(xR),50)\n",
    "_y = GetModel(_x,param)"
   ]
  },
  {
   "cell_type": "code",
   "execution_count": 112,
   "metadata": {},
   "outputs": [
    {
     "data": {
      "image/png": "[encoded data removed]",
      "text/plain": [
       "<Figure size 720x432 with 2 Axes>"
      ]
     },
     "metadata": {
      "needs_background": "light"
     },
     "output_type": "display_data"
    }
   ],
   "source": [
    "fig, axs = plt.subplots(2, 1, figsize=(10, 6), gridspec_kw={'height_ratios': [1.5, 1]},sharex=True)\n",
    "fig.subplots_adjust(hspace=0)\n",
    "fig.suptitle('Constante de Rydberg')\n",
    "\n",
    "axs[0].scatter(xR,l_i,label='Datos',color='r',marker='x')\n",
    "#axs[0].errorbar(xR, l_i,yerr= error_y, fmt='none', ecolor='black')\n",
    "axs[0].plot(_x,_y,label='Regresión lineal')\n",
    "axs[0].set_ylabel('Inverso de longitud\\nde onda (1/nm)')\n",
    "#axs[0].text(0.184,0.00152,'m = (109e-04 $\\pm$ 2e-04)\\nb = (0.6e-05 $\\pm$ 2.8e-05)\\n$R^{2} = 0.973$',fontsize=10, bbox=dict(facecolor='white', edgecolor='black', boxstyle='round'))\n",
    "axs[0].legend()\n",
    "\n",
    "axs[1].scatter(xR,r)\n",
    "axs[1].axhline(y=0, color='black', linestyle='--')\n",
    "axs[1].set_xlabel('(1/$2^{2}$) - (1/$n^{2}$)')\n",
    "axs[1].set_ylabel('Residual ($10^{-6}$)')\n",
    "#axs[1].set_ylim(-6.,7.5)\n",
    "#axs[1].set_yticks(np.arange(-4.5, 7., 1.5))\n",
    "\n",
    "plt.show()"
   ]
  },
  {
   "cell_type": "code",
   "execution_count": 113,
   "metadata": {},
   "outputs": [
    {
     "data": {
      "text/plain": [
       "11069462.002982354"
      ]
     },
     "execution_count": 113,
     "metadata": {},
     "output_type": "execute_result"
    }
   ],
   "source": [
    "R = param[1]*1e+9\n",
    "R"
   ]
  },
  {
   "cell_type": "code",
   "execution_count": 115,
   "metadata": {},
   "outputs": [
    {
     "data": {
      "text/plain": [
       "606209.0777778008"
      ]
     },
     "execution_count": 115,
     "metadata": {},
     "output_type": "execute_result"
    }
   ],
   "source": [
    "dR = deltas[0]*1e+9\n",
    "dR"
   ]
  },
  {
   "cell_type": "code",
   "execution_count": 116,
   "metadata": {},
   "outputs": [
    {
     "data": {
      "text/plain": [
       "10973731.568539001"
      ]
     },
     "execution_count": 116,
     "metadata": {},
     "output_type": "execute_result"
    }
   ],
   "source": [
    "Rr = 1.0973731568539*1e+7\n",
    "Rr"
   ]
  },
  {
   "cell_type": "code",
   "execution_count": 117,
   "metadata": {},
   "outputs": [
    {
     "data": {
      "text/plain": [
       "0.008723599064315177"
      ]
     },
     "execution_count": 117,
     "metadata": {},
     "output_type": "execute_result"
    }
   ],
   "source": [
    "Error_relativo(Rr,R)"
   ]
  },
  {
   "cell_type": "code",
   "execution_count": 118,
   "metadata": {},
   "outputs": [
    {
     "data": {
      "text/plain": [
       "(0.1579165307030286, True)"
      ]
     },
     "execution_count": 118,
     "metadata": {},
     "output_type": "execute_result"
    }
   ],
   "source": [
    "exactitud(Rr,R,dR)"
   ]
  },
  {
   "cell_type": "code",
   "execution_count": 119,
   "metadata": {},
   "outputs": [
    {
     "data": {
      "text/plain": [
       "(0.054764095817346405, True)"
      ]
     },
     "execution_count": 119,
     "metadata": {},
     "output_type": "execute_result"
    }
   ],
   "source": [
    "presicion(dR,R)"
   ]
  }
 ],
 "metadata": {
  "kernelspec": {
   "display_name": "base",
   "language": "python",
   "name": "python3"
  },
  "language_info": {
   "codemirror_mode": {
    "name": "ipython",
    "version": 3
   },
   "file_extension": ".py",
   "mimetype": "text/x-python",
   "name": "python",
   "nbconvert_exporter": "python",
   "pygments_lexer": "ipython3",
   "version": "3.9.7"
  }
 },
 "nbformat": 4,
 "nbformat_minor": 2
}
