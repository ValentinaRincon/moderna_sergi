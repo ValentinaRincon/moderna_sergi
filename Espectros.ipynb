{
 "cells": [
  {
   "cell_type": "code",
   "execution_count": 1,
   "metadata": {},
   "outputs": [],
   "source": [
    "import numpy as np\n",
    "import matplotlib.pyplot as plt"
   ]
  },
  {
   "cell_type": "markdown",
   "metadata": {},
   "source": [
    "# Espectros de átomos y espectroscopía."
   ]
  },
  {
   "cell_type": "markdown",
   "metadata": {},
   "source": [
    "Datos"
   ]
  },
  {
   "cell_type": "code",
   "execution_count": 2,
   "metadata": {},
   "outputs": [],
   "source": [
    "#Experimental\n",
    "\n",
    "H = np.array([324., 363., 498.])\n",
    "He = np.array([506., 534., 559., 570., 675., 776.])\n",
    "Hg = np.array([338., 379., 383., 428., 455.])\n",
    "Ne = np.array([853., 955.])"
   ]
  },
  {
   "cell_type": "code",
   "execution_count": 8,
   "metadata": {},
   "outputs": [],
   "source": [
    "#Teórico\n",
    "\n",
    "H_ = np.array([434.0472, 486.1298, 656.279])\n",
    "He_ = np.array([])\n",
    "Hg_ = np.array([])\n",
    "Ne_ = np.array([])"
   ]
  },
  {
   "cell_type": "markdown",
   "metadata": {},
   "source": [
    "Plots Píxeles vs Longitudes de onda"
   ]
  },
  {
   "cell_type": "code",
   "execution_count": 10,
   "metadata": {},
   "outputs": [
    {
     "data": {
      "text/plain": [
       "Text(0, 0.5, 'Píxeles')"
      ]
     },
     "execution_count": 10,
     "metadata": {},
     "output_type": "execute_result"
    },
    {
     "data": {
      "image/png": "[encoded data removed]",
      "text/plain": [
       "<Figure size 432x288 with 1 Axes>"
      ]
     },
     "metadata": {
      "needs_background": "light"
     },
     "output_type": "display_data"
    }
   ],
   "source": [
    "#Plot del Hidrógeno\n",
    "plt.scatter(H_,H,color='r',marker='x')\n",
    "plt.xlabel('Longitud de onda (nm)')\n",
    "plt.ylabel('Píxeles')"
   ]
  },
  {
   "cell_type": "code",
   "execution_count": null,
   "metadata": {},
   "outputs": [],
   "source": [
    "#Plot del Helio\n",
    "plt.scatter(He_,He,color='r',marker='x')"
   ]
  },
  {
   "cell_type": "code",
   "execution_count": null,
   "metadata": {},
   "outputs": [],
   "source": [
    "#Plot del Mercurio\n",
    "plt.scatter(Hg_,Hg,color='r',marker='x')"
   ]
  },
  {
   "cell_type": "code",
   "execution_count": null,
   "metadata": {},
   "outputs": [],
   "source": [
    "#Plot del Neón\n",
    "plt.scatter(Ne_,Ne,color='r',marker='x')"
   ]
  }
 ],
 "metadata": {
  "kernelspec": {
   "display_name": "base",
   "language": "python",
   "name": "python3"
  },
  "language_info": {
   "codemirror_mode": {
    "name": "ipython",
    "version": 3
   },
   "file_extension": ".py",
   "mimetype": "text/x-python",
   "name": "python",
   "nbconvert_exporter": "python",
   "pygments_lexer": "ipython3",
   "version": "3.9.7"
  }
 },
 "nbformat": 4,
 "nbformat_minor": 2
}
