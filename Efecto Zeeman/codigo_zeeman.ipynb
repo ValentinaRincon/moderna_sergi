{
 "cells": [
  {
   "cell_type": "code",
   "execution_count": 164,
   "metadata": {},
   "outputs": [
    {
     "data": {
      "text/html": [
       "<style>.container { width:90% !important; }</style>"
      ],
      "text/plain": [
       "<IPython.core.display.HTML object>"
      ]
     },
     "metadata": {},
     "output_type": "display_data"
    }
   ],
   "source": [
    "from IPython.display import display, HTML\n",
    "display(HTML(\"<style>.container { width:90% !important; }</style>\"))\n",
    "\n",
    "import numpy as np\n",
    "import matplotlib.pyplot as plt\n",
    "import sympy as sym\n",
    "\n",
    "from scipy.stats import norm\n",
    "from scipy.stats import t\n",
    "from scipy.stats import chi2"
   ]
  },
  {
   "cell_type": "markdown",
   "metadata": {},
   "source": [
    "# Efecto Zeeman"
   ]
  },
  {
   "cell_type": "code",
   "execution_count": 165,
   "metadata": {},
   "outputs": [],
   "source": [
    "def Minimos_cuadrados(x,y,n=1):\n",
    "    l = x.shape[0]\n",
    "    b = y\n",
    "    \n",
    "    A = np.ones((l,n+1))\n",
    "    \n",
    "    for i in range(1,n+1):\n",
    "        A[:,i] = x**i\n",
    "        \n",
    "    AT = np.dot(A.T,A)\n",
    "    bT = np.dot(A.T,b)\n",
    "\n",
    "    xsol = np.linalg.solve(AT,bT)\n",
    "    \n",
    "    return xsol\n",
    "\n",
    "def GetModel(x,p):\n",
    "    \n",
    "    y = 0.\n",
    "    for i in range(len(p)):\n",
    "        y += p[i]*x**i\n",
    "        \n",
    "    return y\n",
    "\n",
    "def GetError(x,y,p,n=1):\n",
    "    \n",
    "    l = x.shape[0]\n",
    "    \n",
    "    A = np.ones((l,n+1))\n",
    "    \n",
    "    for i in range(1,n+1):\n",
    "        A[:,i] = x**i\n",
    "        \n",
    "    # Residuos\n",
    "    R = y - np.dot(A,p)\n",
    "    \n",
    "    sigma2 = np.dot(R.T,R)/(len(y)-len(p))\n",
    "    \n",
    "    Cov = sigma2*np.linalg.inv(np.dot(A.T,A))\n",
    "    \n",
    "    R2 = None\n",
    "    if np.shape(Cov) == (2,2):\n",
    "        R2 = (Cov[0][1]**2)/(Cov[0][0]*Cov[1][1])\n",
    "\n",
    "    return (Cov,R2,R)\n",
    "\n",
    "def Get_sigma(Cov):\n",
    "    sigmaai = np.sqrt(np.diagonal(Cov))\n",
    "    return sigmaai[::-1]\n",
    "\n",
    "def Error_relativo(X_real,X_exp):\n",
    "    return (np.abs(X_exp - X_real)/X_real)\n",
    "\n",
    "def presicion(d,v):\n",
    "    p = (d/v)\n",
    "    if p <= 0.1:\n",
    "        return p,True\n",
    "    else:\n",
    "        return p,False\n",
    "    \n",
    "def exactitud(xr,xm,d):\n",
    "    e = (np.abs(xr-xm))\n",
    "    if e <= (2.5*d):\n",
    "        return e/d,True\n",
    "    else:\n",
    "        return e/d,False\n",
    "\n",
    "X = sym.Symbol('x',real=True)\n",
    "Y = sym.Symbol('y',real=True)"
   ]
  },
  {
   "cell_type": "code",
   "execution_count": 166,
   "metadata": {},
   "outputs": [
    {
     "data": {
      "text/plain": [
       "5.7883818066000007e-05"
      ]
     },
     "execution_count": 166,
     "metadata": {},
     "output_type": "execute_result"
    }
   ],
   "source": [
    "#c = 299798458 #m/s\n",
    "c = 299798458*1e09 #nm/s\n",
    "me = 0.51099895*1e06/(c**2) #eV/c**2\n",
    "mp = 938.27208816*1e06/(c**2) #eV/c**2\n",
    "mn = 939.56542052*1e06/(c**2) #eV/c**2\n",
    "h = 4.136667696*1e-15 #eV*s\n",
    "h_barra = 6.582119569*1e-16 #eV*s\n",
    "e_0 = 55.26349406*1e-03 #e**2/(cV*nm)\n",
    "e = 1 #e\n",
    "a_0 = 0.0529177210903 #nm\n",
    "Ry = 13.605693122994 #eV\n",
    "Miu_B = 5.7883818066*1e-05 #eV/T\n",
    "Miu_B"
   ]
  },
  {
   "cell_type": "code",
   "execution_count": 167,
   "metadata": {},
   "outputs": [
    {
     "data": {
      "text/plain": [
       "57886135034619.9"
      ]
     },
     "execution_count": 167,
     "metadata": {},
     "output_type": "execute_result"
    }
   ],
   "source": [
    "(e*h_barra)/(2*me)"
   ]
  },
  {
   "cell_type": "markdown",
   "metadata": {},
   "source": [
    "# Datos"
   ]
  },
  {
   "cell_type": "code",
   "execution_count": 168,
   "metadata": {},
   "outputs": [],
   "source": [
    "# Teóricos\n",
    "Ne_n = 640.2248\n",
    "Ne_a = 724.51665\n",
    "Cd = 643.84695\n",
    "Ar = 727.2936\n",
    "#Experimentales\n",
    "px_Ne_Cd = 1067\n",
    "px_Ne_Ar = 1025\n",
    "e_px = 0.5"
   ]
  },
  {
   "cell_type": "markdown",
   "metadata": {},
   "source": [
    "# Análisis"
   ]
  },
  {
   "cell_type": "markdown",
   "metadata": {},
   "source": [
    "calibración"
   ]
  },
  {
   "cell_type": "code",
   "execution_count": 169,
   "metadata": {},
   "outputs": [
    {
     "data": {
      "text/plain": [
       "array([0.00339, 0.0024 ])"
      ]
     },
     "execution_count": 169,
     "metadata": {},
     "output_type": "execute_result"
    }
   ],
   "source": [
    "# Zeeman normal\n",
    "def cal_normal (px):\n",
    "    return px*(np.abs(Cd-Ne_n)/px_Ne_Cd)\n",
    "\n",
    "def e_cal_n (px):\n",
    "    return (np.abs(Cd-Ne_n)/(px_Ne_Cd))*((1+(px**2))**(1/2))*(e_px)\n",
    "\n",
    "np.round(np.array((cal_normal(1.),e_cal_n(1.))),5)"
   ]
  },
  {
   "cell_type": "code",
   "execution_count": 170,
   "metadata": {},
   "outputs": [
    {
     "data": {
      "text/plain": [
       "array([0.00271, 0.00192])"
      ]
     },
     "execution_count": 170,
     "metadata": {},
     "output_type": "execute_result"
    }
   ],
   "source": [
    "# Zeeman anómalo\n",
    "def cal_anomalo (px):\n",
    "    return px*(np.abs(Ar-Ne_a)/px_Ne_Ar)\n",
    "\n",
    "def e_cal_a (px):\n",
    "    return (np.abs(Ar-Ne_a)/(px_Ne_Ar))*((1+(px**2))**(1/2))*(e_px)\n",
    "\n",
    "np.round(np.array((cal_anomalo(1.),e_cal_a(1.))),5)"
   ]
  },
  {
   "cell_type": "code",
   "execution_count": 171,
   "metadata": {},
   "outputs": [],
   "source": [
    "# Distancias medidas desde la mitad"
   ]
  },
  {
   "cell_type": "markdown",
   "metadata": {},
   "source": [
    "Zeeman normal"
   ]
  },
  {
   "cell_type": "code",
   "execution_count": 172,
   "metadata": {},
   "outputs": [
    {
     "data": {
      "text/plain": [
       "0.016973523898781786"
      ]
     },
     "execution_count": 172,
     "metadata": {},
     "output_type": "execute_result"
    }
   ],
   "source": [
    "d_px = 5.\n",
    "d_nm = cal_normal(d_px)\n",
    "d_nm"
   ]
  },
  {
   "cell_type": "code",
   "execution_count": 173,
   "metadata": {},
   "outputs": [
    {
     "data": {
      "text/plain": [
       "0.00865483295743218"
      ]
     },
     "execution_count": 173,
     "metadata": {},
     "output_type": "execute_result"
    }
   ],
   "source": [
    "e_d_nm = e_cal_n(d_px)\n",
    "e_d_nm"
   ]
  },
  {
   "cell_type": "code",
   "execution_count": 174,
   "metadata": {},
   "outputs": [
    {
     "data": {
      "text/plain": [
       "array([0.017 , 0.0087])"
      ]
     },
     "execution_count": 174,
     "metadata": {},
     "output_type": "execute_result"
    }
   ],
   "source": [
    "np.round(np.array([d_nm,e_d_nm]),4)"
   ]
  },
  {
   "cell_type": "code",
   "execution_count": 175,
   "metadata": {},
   "outputs": [],
   "source": [
    "#d_nm_ = cal_normal(d_px+1)\n",
    "#((h*c)/(Cd**2))*(d_nm_)*(1.602176634*(10**(-19)))"
   ]
  },
  {
   "cell_type": "code",
   "execution_count": 176,
   "metadata": {},
   "outputs": [],
   "source": [
    "#((h*c)*((1/Cd)-(1/(Cd+d_nm_))))*(1.602176634*(10**(-19)))"
   ]
  },
  {
   "cell_type": "code",
   "execution_count": 177,
   "metadata": {},
   "outputs": [
    {
     "data": {
      "text/plain": [
       "5.0779305915927785e-05"
      ]
     },
     "execution_count": 177,
     "metadata": {},
     "output_type": "execute_result"
    }
   ],
   "source": [
    "d_E = ((h*c)/(Cd**2))*(d_nm) #eV\n",
    "d_E"
   ]
  },
  {
   "cell_type": "code",
   "execution_count": 178,
   "metadata": {},
   "outputs": [
    {
     "data": {
      "text/plain": [
       "8.135741742923747e-24"
      ]
     },
     "execution_count": 178,
     "metadata": {},
     "output_type": "execute_result"
    }
   ],
   "source": [
    "# En Joules\n",
    "d_E*(1.602176634*(10**(-19)))"
   ]
  },
  {
   "cell_type": "code",
   "execution_count": 179,
   "metadata": {},
   "outputs": [
    {
     "data": {
      "text/plain": [
       "2.5892467175201328e-05"
      ]
     },
     "execution_count": 179,
     "metadata": {},
     "output_type": "execute_result"
    }
   ],
   "source": [
    "e_d_E = ((h*c)/(Cd**2))*(e_d_nm)\n",
    "e_d_E"
   ]
  },
  {
   "cell_type": "code",
   "execution_count": 180,
   "metadata": {},
   "outputs": [
    {
     "data": {
      "text/plain": [
       "array([5.08e-05, 2.59e-05])"
      ]
     },
     "execution_count": 180,
     "metadata": {},
     "output_type": "execute_result"
    }
   ],
   "source": [
    "np.round(np.array([d_E,e_d_E]),7)"
   ]
  },
  {
   "cell_type": "code",
   "execution_count": 181,
   "metadata": {},
   "outputs": [
    {
     "data": {
      "text/plain": [
       "0.8772625513062814"
      ]
     },
     "execution_count": 181,
     "metadata": {},
     "output_type": "execute_result"
    }
   ],
   "source": [
    "B = d_E/Miu_B #T\n",
    "B"
   ]
  },
  {
   "cell_type": "markdown",
   "metadata": {},
   "source": [
    "- Perpendicular"
   ]
  },
  {
   "cell_type": "code",
   "execution_count": 182,
   "metadata": {},
   "outputs": [],
   "source": [
    "I = 4.94"
   ]
  },
  {
   "cell_type": "markdown",
   "metadata": {},
   "source": [
    "- Paralelo"
   ]
  },
  {
   "cell_type": "code",
   "execution_count": 183,
   "metadata": {},
   "outputs": [],
   "source": [
    "I = 4.93"
   ]
  },
  {
   "cell_type": "markdown",
   "metadata": {},
   "source": [
    "Zeeman anómalo"
   ]
  },
  {
   "cell_type": "code",
   "execution_count": 184,
   "metadata": {},
   "outputs": [
    {
     "data": {
      "text/plain": [
       "(0.012191487804877797, 0.03251063414634079, 0.043347512195121056)"
      ]
     },
     "execution_count": 184,
     "metadata": {},
     "output_type": "execute_result"
    }
   ],
   "source": [
    "d_px_1 = 4.5\n",
    "d_px_2 = 12.\n",
    "d_px_3 = 16.\n",
    "d_nm_1 = cal_anomalo(d_px_1)\n",
    "d_nm_2 = cal_anomalo(d_px_2)\n",
    "d_nm_3 = cal_anomalo(d_px_3)\n",
    "(d_nm_1,d_nm_2,d_nm_3)"
   ]
  },
  {
   "cell_type": "code",
   "execution_count": 185,
   "metadata": {},
   "outputs": [
    {
     "data": {
      "text/plain": [
       "array([0.0122, 0.0325, 0.0433])"
      ]
     },
     "execution_count": 185,
     "metadata": {},
     "output_type": "execute_result"
    }
   ],
   "source": [
    "np.round(np.array((d_nm_1,d_nm_2,d_nm_3)),4)"
   ]
  },
  {
   "cell_type": "code",
   "execution_count": 186,
   "metadata": {},
   "outputs": [
    {
     "data": {
      "text/plain": [
       "(0.00135471042178968, 0.0013553254385592615, 0.0013558818193047878)"
      ]
     },
     "execution_count": 186,
     "metadata": {},
     "output_type": "execute_result"
    }
   ],
   "source": [
    "e_d_nm_1 = e_cal_a(d_nm_1)\n",
    "e_d_nm_2 = e_cal_a(d_nm_2)\n",
    "e_d_nm_3 = e_cal_a(d_nm_3)\n",
    "(e_d_nm_1,e_d_nm_2,e_d_nm_3)"
   ]
  },
  {
   "cell_type": "code",
   "execution_count": 187,
   "metadata": {},
   "outputs": [
    {
     "data": {
      "text/plain": [
       "array([0.0014, 0.0014, 0.0014])"
      ]
     },
     "execution_count": 187,
     "metadata": {},
     "output_type": "execute_result"
    }
   ],
   "source": [
    "np.round(np.array((e_d_nm_1,e_d_nm_2,e_d_nm_3)),4)"
   ]
  },
  {
   "cell_type": "code",
   "execution_count": 188,
   "metadata": {},
   "outputs": [
    {
     "data": {
      "text/plain": [
       "(2.8803150749121196e-05, 7.680840199765652e-05, 0.00010241120266354203)"
      ]
     },
     "execution_count": 188,
     "metadata": {},
     "output_type": "execute_result"
    }
   ],
   "source": [
    "d_E_1 = ((h*c)/(Ne_a**2))*(d_nm_1) #eV\n",
    "d_E_2 = ((h*c)/(Ne_a**2))*(d_nm_2) #eV\n",
    "d_E_3 = ((h*c)/(Ne_a**2))*(d_nm_3) #eV\n",
    "(d_E_1,d_E_2,d_E_3)"
   ]
  },
  {
   "cell_type": "code",
   "execution_count": 189,
   "metadata": {},
   "outputs": [
    {
     "data": {
      "text/plain": [
       "(4.614773511582158e-24, 1.230606269755242e-23, 1.640808359673656e-23)"
      ]
     },
     "execution_count": 189,
     "metadata": {},
     "output_type": "execute_result"
    }
   ],
   "source": [
    "# En Joules\n",
    "tuple(np.array([d_E_1,d_E_2,d_E_3])*(1.602176634*(10**(-19))))"
   ]
  },
  {
   "cell_type": "code",
   "execution_count": 190,
   "metadata": {},
   "outputs": [
    {
     "data": {
      "text/plain": [
       "array([2.90e-05, 7.70e-05, 1.02e-04])"
      ]
     },
     "execution_count": 190,
     "metadata": {},
     "output_type": "execute_result"
    }
   ],
   "source": [
    "np.round(np.array((d_E_1,d_E_2,d_E_3)),6)"
   ]
  },
  {
   "cell_type": "code",
   "execution_count": 191,
   "metadata": {},
   "outputs": [
    {
     "data": {
      "text/plain": [
       "(3.200587912215431e-06, 3.202040927713704e-06, 3.203355411945964e-06)"
      ]
     },
     "execution_count": 191,
     "metadata": {},
     "output_type": "execute_result"
    }
   ],
   "source": [
    "e_d_E_1 = ((h*c)/(Ne_a**2))*(e_d_nm_1)\n",
    "e_d_E_2 = ((h*c)/(Ne_a**2))*(e_d_nm_2)\n",
    "e_d_E_3 = ((h*c)/(Ne_a**2))*(e_d_nm_3)\n",
    "(e_d_E_1,e_d_E_2,e_d_E_3)"
   ]
  },
  {
   "cell_type": "code",
   "execution_count": 196,
   "metadata": {},
   "outputs": [
    {
     "data": {
      "text/plain": [
       "array([3.e-06, 3.e-06, 3.e-06])"
      ]
     },
     "execution_count": 196,
     "metadata": {},
     "output_type": "execute_result"
    }
   ],
   "source": [
    "np.round(np.array((e_d_E_1,e_d_E_2,e_d_E_3)),6)"
   ]
  },
  {
   "cell_type": "markdown",
   "metadata": {},
   "source": [
    "- Perpendicular"
   ]
  },
  {
   "cell_type": "code",
   "execution_count": 193,
   "metadata": {},
   "outputs": [],
   "source": [
    "I = 4.93"
   ]
  },
  {
   "cell_type": "markdown",
   "metadata": {},
   "source": [
    "- Paralelo"
   ]
  },
  {
   "cell_type": "code",
   "execution_count": 194,
   "metadata": {},
   "outputs": [],
   "source": [
    "I = 4.92"
   ]
  },
  {
   "cell_type": "code",
   "execution_count": 195,
   "metadata": {},
   "outputs": [
    {
     "data": {
      "text/plain": [
       "(1.02, 3.57)"
      ]
     },
     "execution_count": 195,
     "metadata": {},
     "output_type": "execute_result"
    }
   ],
   "source": [
    "tuple(np.round(np.array((1.021,3.573)),2))"
   ]
  }
 ],
 "metadata": {
  "kernelspec": {
   "display_name": "base",
   "language": "python",
   "name": "python3"
  },
  "language_info": {
   "codemirror_mode": {
    "name": "ipython",
    "version": 3
   },
   "file_extension": ".py",
   "mimetype": "text/x-python",
   "name": "python",
   "nbconvert_exporter": "python",
   "pygments_lexer": "ipython3",
   "version": "3.9.7"
  }
 },
 "nbformat": 4,
 "nbformat_minor": 2
}
