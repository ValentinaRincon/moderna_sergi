{
 "cells": [
  {
   "cell_type": "code",
   "execution_count": 1,
   "metadata": {},
   "outputs": [
    {
     "data": {
      "text/html": [
       "<style>.container { width:90% !important; }</style>"
      ],
      "text/plain": [
       "<IPython.core.display.HTML object>"
      ]
     },
     "metadata": {},
     "output_type": "display_data"
    }
   ],
   "source": [
    "from IPython.display import display, HTML\n",
    "display(HTML(\"<style>.container { width:90% !important; }</style>\"))\n",
    "\n",
    "import numpy as np\n",
    "import matplotlib.pyplot as plt\n",
    "import sympy as sym\n",
    "\n",
    "from scipy.stats import norm\n",
    "from scipy.stats import t\n",
    "from scipy.stats import chi2"
   ]
  },
  {
   "cell_type": "markdown",
   "metadata": {},
   "source": [
    "# Efecto Zeeman"
   ]
  },
  {
   "cell_type": "code",
   "execution_count": 2,
   "metadata": {},
   "outputs": [],
   "source": [
    "def Minimos_cuadrados(x,y,n=1):\n",
    "    l = x.shape[0]\n",
    "    b = y\n",
    "    \n",
    "    A = np.ones((l,n+1))\n",
    "    \n",
    "    for i in range(1,n+1):\n",
    "        A[:,i] = x**i\n",
    "        \n",
    "    AT = np.dot(A.T,A)\n",
    "    bT = np.dot(A.T,b)\n",
    "\n",
    "    xsol = np.linalg.solve(AT,bT)\n",
    "    \n",
    "    return xsol\n",
    "\n",
    "def GetModel(x,p):\n",
    "    \n",
    "    y = 0.\n",
    "    for i in range(len(p)):\n",
    "        y += p[i]*x**i\n",
    "        \n",
    "    return y\n",
    "\n",
    "def GetError(x,y,p,n=1):\n",
    "    \n",
    "    l = x.shape[0]\n",
    "    \n",
    "    A = np.ones((l,n+1))\n",
    "    \n",
    "    for i in range(1,n+1):\n",
    "        A[:,i] = x**i\n",
    "        \n",
    "    # Residuos\n",
    "    R = y - np.dot(A,p)\n",
    "    \n",
    "    sigma2 = np.dot(R.T,R)/(len(y)-len(p))\n",
    "    \n",
    "    Cov = sigma2*np.linalg.inv(np.dot(A.T,A))\n",
    "    \n",
    "    R2 = None\n",
    "    if np.shape(Cov) == (2,2):\n",
    "        R2 = (Cov[0][1]**2)/(Cov[0][0]*Cov[1][1])\n",
    "\n",
    "    return (Cov,R2,R)\n",
    "\n",
    "def Get_sigma(Cov):\n",
    "    sigmaai = np.sqrt(np.diagonal(Cov))\n",
    "    return sigmaai[::-1]\n",
    "\n",
    "def Error_relativo(X_real,X_exp):\n",
    "    return (np.abs(X_exp - X_real)/X_real)\n",
    "\n",
    "def presicion(d,v):\n",
    "    p = (d/v)\n",
    "    if p <= 0.1:\n",
    "        return p,True\n",
    "    else:\n",
    "        return p,False\n",
    "    \n",
    "def exactitud(xr,xm,d):\n",
    "    e = (np.abs(xr-xm))\n",
    "    if e <= (2.5*d):\n",
    "        return e/d,True\n",
    "    else:\n",
    "        return e/d,False\n",
    "\n",
    "X = sym.Symbol('x',real=True)\n",
    "Y = sym.Symbol('y',real=True)"
   ]
  },
  {
   "cell_type": "code",
   "execution_count": 3,
   "metadata": {},
   "outputs": [
    {
     "data": {
      "text/plain": [
       "5.7883818066000007e-05"
      ]
     },
     "execution_count": 3,
     "metadata": {},
     "output_type": "execute_result"
    }
   ],
   "source": [
    "c = 299798458*1e09 #nm/s\n",
    "c_ = 299798458 #m/s\n",
    "me = 0.51099895*1e06/(c**2) #eV/c**2\n",
    "me_ = 0.51099895*1e06/(c_**2) #eV/c**2\n",
    "mp = 938.27208816*1e06/(c**2) #eV/c**2\n",
    "mn = 939.56542052*1e06/(c**2) #eV/c**2\n",
    "h = 4.136667696*1e-15 #eV*s\n",
    "h_barra = 6.582119569*1e-16 #eV*s\n",
    "e_0 = 55.26349406*1e-03 #e**2/(cV*nm)\n",
    "e = 1 #e\n",
    "a_0 = 0.0529177210903 #nm\n",
    "Ry = 13.605693122994 #eV\n",
    "Miu_B = 5.7883818066*1e-05 #eV/T\n",
    "Miu_B"
   ]
  },
  {
   "cell_type": "code",
   "execution_count": 4,
   "metadata": {},
   "outputs": [
    {
     "data": {
      "text/plain": [
       "5.788613503461989e-05"
      ]
     },
     "execution_count": 4,
     "metadata": {},
     "output_type": "execute_result"
    }
   ],
   "source": [
    "(e*h_barra)/(2*me_)"
   ]
  },
  {
   "cell_type": "markdown",
   "metadata": {},
   "source": [
    "# Datos"
   ]
  },
  {
   "cell_type": "code",
   "execution_count": 5,
   "metadata": {},
   "outputs": [],
   "source": [
    "# Teóricos\n",
    "Ne_n = 640.2248\n",
    "Ne_a = 724.51665\n",
    "Cd = 643.84695\n",
    "Ar = 727.2936\n",
    "#Experimentales\n",
    "px_Ne_Cd = 1067\n",
    "px_Ne_Ar = 1025\n",
    "e_px = 0.5"
   ]
  },
  {
   "cell_type": "markdown",
   "metadata": {},
   "source": [
    "# Análisis"
   ]
  },
  {
   "cell_type": "markdown",
   "metadata": {},
   "source": [
    "calibración"
   ]
  },
  {
   "cell_type": "code",
   "execution_count": 6,
   "metadata": {},
   "outputs": [
    {
     "data": {
      "text/plain": [
       "array([0.00339, 0.0017 ])"
      ]
     },
     "execution_count": 6,
     "metadata": {},
     "output_type": "execute_result"
    }
   ],
   "source": [
    "# Zeeman normal\n",
    "def cal_normal (px):\n",
    "    return px*(np.abs(Cd-Ne_n)/px_Ne_Cd)\n",
    "\n",
    "def e_cal_n (px):\n",
    "    return (np.abs(Cd-Ne_n)/(px_Ne_Cd))*(e_px)*np.sqrt(1+((2*(px**2))/(px_Ne_Cd**2)))\n",
    "\n",
    "np.round(np.array((cal_normal(1.),e_cal_n(1.))),5)"
   ]
  },
  {
   "cell_type": "code",
   "execution_count": 7,
   "metadata": {},
   "outputs": [
    {
     "data": {
      "text/plain": [
       "array([0.00271, 0.00135])"
      ]
     },
     "execution_count": 7,
     "metadata": {},
     "output_type": "execute_result"
    }
   ],
   "source": [
    "# Zeeman anómalo\n",
    "def cal_anomalo (px):\n",
    "    return px*(np.abs(Ar-Ne_a)/px_Ne_Ar)\n",
    "\n",
    "def e_cal_a (px):\n",
    "    return (np.abs(Ar-Ne_a)/(px_Ne_Ar))*(e_px)*np.sqrt(1+((2*(px**2))/(px_Ne_Ar**2)))\n",
    "\n",
    "np.round(np.array((cal_anomalo(1.),e_cal_a(1.))),5)"
   ]
  },
  {
   "cell_type": "code",
   "execution_count": 8,
   "metadata": {},
   "outputs": [],
   "source": [
    "# Distancias medidas desde la mitad"
   ]
  },
  {
   "cell_type": "markdown",
   "metadata": {},
   "source": [
    "Zeeman normal"
   ]
  },
  {
   "cell_type": "code",
   "execution_count": 9,
   "metadata": {},
   "outputs": [
    {
     "data": {
      "text/plain": [
       "0.016973523898781786"
      ]
     },
     "execution_count": 9,
     "metadata": {},
     "output_type": "execute_result"
    }
   ],
   "source": [
    "d_px = 5.\n",
    "d_nm = cal_normal(d_px)\n",
    "d_nm"
   ]
  },
  {
   "cell_type": "code",
   "execution_count": 10,
   "metadata": {},
   "outputs": [
    {
     "data": {
      "text/plain": [
       "0.0016973896615108924"
      ]
     },
     "execution_count": 10,
     "metadata": {},
     "output_type": "execute_result"
    }
   ],
   "source": [
    "e_d_nm = e_cal_n(d_px)\n",
    "e_d_nm"
   ]
  },
  {
   "cell_type": "code",
   "execution_count": 11,
   "metadata": {},
   "outputs": [
    {
     "data": {
      "text/plain": [
       "array([0.017 , 0.0017])"
      ]
     },
     "execution_count": 11,
     "metadata": {},
     "output_type": "execute_result"
    }
   ],
   "source": [
    "np.round(np.array([d_nm,e_d_nm]),4)"
   ]
  },
  {
   "cell_type": "code",
   "execution_count": 12,
   "metadata": {},
   "outputs": [],
   "source": [
    "#d_nm_ = cal_normal(d_px+1)\n",
    "#((h*c)/(Cd**2))*(d_nm_)*(1.602176634*(10**(-19)))"
   ]
  },
  {
   "cell_type": "code",
   "execution_count": 13,
   "metadata": {},
   "outputs": [],
   "source": [
    "#((h*c)*((1/Cd)-(1/(Cd+d_nm_))))*(1.602176634*(10**(-19)))"
   ]
  },
  {
   "cell_type": "code",
   "execution_count": 14,
   "metadata": {},
   "outputs": [
    {
     "data": {
      "text/plain": [
       "5.0779305915927785e-05"
      ]
     },
     "execution_count": 14,
     "metadata": {},
     "output_type": "execute_result"
    }
   ],
   "source": [
    "d_E = ((h*c)/(Cd**2))*(d_nm) #eV\n",
    "d_E"
   ]
  },
  {
   "cell_type": "code",
   "execution_count": 15,
   "metadata": {},
   "outputs": [
    {
     "data": {
      "text/plain": [
       "8.135741742923747e-24"
      ]
     },
     "execution_count": 15,
     "metadata": {},
     "output_type": "execute_result"
    }
   ],
   "source": [
    "# En Joules\n",
    "d_E*(1.602176634*(10**(-19)))"
   ]
  },
  {
   "cell_type": "code",
   "execution_count": 16,
   "metadata": {},
   "outputs": [
    {
     "data": {
      "text/plain": [
       "5.07804209628979e-06"
      ]
     },
     "execution_count": 16,
     "metadata": {},
     "output_type": "execute_result"
    }
   ],
   "source": [
    "e_d_E = ((h*c)/(Cd**2))*(e_d_nm)\n",
    "e_d_E"
   ]
  },
  {
   "cell_type": "code",
   "execution_count": 17,
   "metadata": {},
   "outputs": [
    {
     "data": {
      "text/plain": [
       "array([5.08e-05, 5.10e-06])"
      ]
     },
     "execution_count": 17,
     "metadata": {},
     "output_type": "execute_result"
    }
   ],
   "source": [
    "np.round(np.array([d_E,e_d_E]),7)"
   ]
  },
  {
   "cell_type": "code",
   "execution_count": 18,
   "metadata": {},
   "outputs": [
    {
     "data": {
      "text/plain": [
       "(0.10000219586886824, False)"
      ]
     },
     "execution_count": 18,
     "metadata": {},
     "output_type": "execute_result"
    }
   ],
   "source": [
    "presicion(e_d_E,d_E)"
   ]
  },
  {
   "cell_type": "code",
   "execution_count": 19,
   "metadata": {},
   "outputs": [
    {
     "data": {
      "text/plain": [
       "0.8772625513062814"
      ]
     },
     "execution_count": 19,
     "metadata": {},
     "output_type": "execute_result"
    }
   ],
   "source": [
    "B = d_E/Miu_B #T\n",
    "B"
   ]
  },
  {
   "cell_type": "code",
   "execution_count": 20,
   "metadata": {},
   "outputs": [
    {
     "data": {
      "text/plain": [
       "0.08772818148415383"
      ]
     },
     "execution_count": 20,
     "metadata": {},
     "output_type": "execute_result"
    }
   ],
   "source": [
    "e_B = (1/Miu_B)*(e_d_E)\n",
    "e_B"
   ]
  },
  {
   "cell_type": "code",
   "execution_count": 21,
   "metadata": {},
   "outputs": [
    {
     "data": {
      "text/plain": [
       "(0.10000219586886824, False)"
      ]
     },
     "execution_count": 21,
     "metadata": {},
     "output_type": "execute_result"
    }
   ],
   "source": [
    "presicion(e_B,B)"
   ]
  },
  {
   "cell_type": "markdown",
   "metadata": {},
   "source": [
    "- Perpendicular"
   ]
  },
  {
   "cell_type": "code",
   "execution_count": 22,
   "metadata": {},
   "outputs": [],
   "source": [
    "I = 4.94"
   ]
  },
  {
   "cell_type": "markdown",
   "metadata": {},
   "source": [
    "- Paralelo"
   ]
  },
  {
   "cell_type": "code",
   "execution_count": 23,
   "metadata": {},
   "outputs": [],
   "source": [
    "I = 4.93"
   ]
  },
  {
   "cell_type": "markdown",
   "metadata": {},
   "source": [
    "Zeeman anómalo"
   ]
  },
  {
   "cell_type": "code",
   "execution_count": 24,
   "metadata": {},
   "outputs": [
    {
     "data": {
      "text/plain": [
       "(0.012191487804877797, 0.03251063414634079, 0.043347512195121056)"
      ]
     },
     "execution_count": 24,
     "metadata": {},
     "output_type": "execute_result"
    }
   ],
   "source": [
    "d_px_1 = 4.5\n",
    "d_px_2 = 12.\n",
    "d_px_3 = 16.\n",
    "d_nm_1 = cal_anomalo(d_px_1)\n",
    "d_nm_2 = cal_anomalo(d_px_2)\n",
    "d_nm_3 = cal_anomalo(d_px_3)\n",
    "(d_nm_1,d_nm_2,d_nm_3)"
   ]
  },
  {
   "cell_type": "code",
   "execution_count": 25,
   "metadata": {},
   "outputs": [
    {
     "data": {
      "text/plain": [
       "array([0.0122, 0.0325, 0.0433])"
      ]
     },
     "execution_count": 25,
     "metadata": {},
     "output_type": "execute_result"
    }
   ],
   "source": [
    "np.round(np.array((d_nm_1,d_nm_2,d_nm_3)),4)"
   ]
  },
  {
   "cell_type": "code",
   "execution_count": 26,
   "metadata": {},
   "outputs": [
    {
     "data": {
      "text/plain": [
       "(0.00135460975628917, 0.0013546097574602867, 0.001354609758520206)"
      ]
     },
     "execution_count": 26,
     "metadata": {},
     "output_type": "execute_result"
    }
   ],
   "source": [
    "e_d_nm_1 = e_cal_a(d_nm_1)\n",
    "e_d_nm_2 = e_cal_a(d_nm_2)\n",
    "e_d_nm_3 = e_cal_a(d_nm_3)\n",
    "(e_d_nm_1,e_d_nm_2,e_d_nm_3)"
   ]
  },
  {
   "cell_type": "code",
   "execution_count": 27,
   "metadata": {},
   "outputs": [
    {
     "data": {
      "text/plain": [
       "array([0.0014, 0.0014, 0.0014])"
      ]
     },
     "execution_count": 27,
     "metadata": {},
     "output_type": "execute_result"
    }
   ],
   "source": [
    "np.round(np.array((e_d_nm_1,e_d_nm_2,e_d_nm_3)),4)"
   ]
  },
  {
   "cell_type": "code",
   "execution_count": 28,
   "metadata": {},
   "outputs": [
    {
     "data": {
      "text/plain": [
       "(2.8803150749121196e-05, 7.680840199765652e-05, 0.00010241120266354203)"
      ]
     },
     "execution_count": 28,
     "metadata": {},
     "output_type": "execute_result"
    }
   ],
   "source": [
    "d_E_1 = ((h*c)/(Ne_a**2))*(d_nm_1) #eV\n",
    "d_E_2 = ((h*c)/(Ne_a**2))*(d_nm_2) #eV\n",
    "d_E_3 = ((h*c)/(Ne_a**2))*(d_nm_3) #eV\n",
    "(d_E_1,d_E_2,d_E_3)"
   ]
  },
  {
   "cell_type": "code",
   "execution_count": 29,
   "metadata": {},
   "outputs": [
    {
     "data": {
      "text/plain": [
       "(4.614773511582158e-24, 1.230606269755242e-23, 1.640808359673656e-23)"
      ]
     },
     "execution_count": 29,
     "metadata": {},
     "output_type": "execute_result"
    }
   ],
   "source": [
    "# En Joules\n",
    "tuple(np.array([d_E_1,d_E_2,d_E_3])*(1.602176634*(10**(-19))))"
   ]
  },
  {
   "cell_type": "code",
   "execution_count": 30,
   "metadata": {},
   "outputs": [
    {
     "data": {
      "text/plain": [
       "array([2.90e-05, 7.70e-05, 1.02e-04])"
      ]
     },
     "execution_count": 30,
     "metadata": {},
     "output_type": "execute_result"
    }
   ],
   "source": [
    "np.round(np.array((d_E_1,d_E_2,d_E_3)),6)"
   ]
  },
  {
   "cell_type": "code",
   "execution_count": 31,
   "metadata": {},
   "outputs": [
    {
     "data": {
      "text/plain": [
       "(3.200350083688443e-06, 3.2003500864552792e-06, 3.2003500889594047e-06)"
      ]
     },
     "execution_count": 31,
     "metadata": {},
     "output_type": "execute_result"
    }
   ],
   "source": [
    "e_d_E_1 = ((h*c)/(Ne_a**2))*(e_d_nm_1)\n",
    "e_d_E_2 = ((h*c)/(Ne_a**2))*(e_d_nm_2)\n",
    "e_d_E_3 = ((h*c)/(Ne_a**2))*(e_d_nm_3)\n",
    "(e_d_E_1,e_d_E_2,e_d_E_3)"
   ]
  },
  {
   "cell_type": "code",
   "execution_count": 32,
   "metadata": {},
   "outputs": [
    {
     "data": {
      "text/plain": [
       "array([3.e-06, 3.e-06, 3.e-06])"
      ]
     },
     "execution_count": 32,
     "metadata": {},
     "output_type": "execute_result"
    }
   ],
   "source": [
    "np.round(np.array((e_d_E_1,e_d_E_2,e_d_E_3)),6)"
   ]
  },
  {
   "cell_type": "code",
   "execution_count": 33,
   "metadata": {},
   "outputs": [
    {
     "data": {
      "text/plain": [
       "((0.11111111112683004, False),\n",
       " (0.041666666708583835, True),\n",
       " (0.03125000005588955, True))"
      ]
     },
     "execution_count": 33,
     "metadata": {},
     "output_type": "execute_result"
    }
   ],
   "source": [
    "(presicion(e_d_E_1,d_E_1),presicion(e_d_E_2,d_E_2),presicion(e_d_E_3,d_E_3))"
   ]
  },
  {
   "cell_type": "markdown",
   "metadata": {},
   "source": [
    "- Perpendicular"
   ]
  },
  {
   "cell_type": "code",
   "execution_count": 34,
   "metadata": {},
   "outputs": [],
   "source": [
    "I = 4.93"
   ]
  },
  {
   "cell_type": "markdown",
   "metadata": {},
   "source": [
    "- Paralelo"
   ]
  },
  {
   "cell_type": "code",
   "execution_count": 35,
   "metadata": {},
   "outputs": [],
   "source": [
    "I = 4.92"
   ]
  },
  {
   "cell_type": "markdown",
   "metadata": {},
   "source": [
    "Landé factor"
   ]
  },
  {
   "cell_type": "code",
   "execution_count": 36,
   "metadata": {},
   "outputs": [],
   "source": [
    "g_12 = 2/3\n",
    "g_32 = 4/3"
   ]
  },
  {
   "cell_type": "code",
   "execution_count": 37,
   "metadata": {},
   "outputs": [],
   "source": [
    "mj_32 = np.array([-3/2,-1/2,1/2,3/2])\n",
    "mj_12 = np.array([-1/2,1/2])\n",
    "\n",
    "def GetComponents(mj_i,mj_f,g_i,g_f,tolerancia = 10):\n",
    "    \n",
    "    sigmas = np.array([])\n",
    "    pis = np.array([])\n",
    "    \n",
    "    for i in mj_i:\n",
    "         for j in mj_f:\n",
    "            l = ((Ne_a**2)/(h*c))*Miu_B*B*(g_i*i-g_f*j)\n",
    "\n",
    "            if  type(l)!=bool:\n",
    "                if (i-j==0):\n",
    "                    croot = np.round( l, tolerancia )\n",
    "                    if croot not in pis:\n",
    "                        pis = np.append(pis, croot)\n",
    "\n",
    "                if (i-j==1):\n",
    "                    croot = np.round( l, tolerancia )\n",
    "                    if croot not in sigmas:\n",
    "                        sigmas = np.append(sigmas, croot)\n",
    "\n",
    "                if (i-j==-1):\n",
    "                    croot = np.round( l, tolerancia )\n",
    "                    if croot not in sigmas:\n",
    "                        sigmas = np.append(sigmas, croot)\n",
    "                    \n",
    "    pis.sort()\n",
    "    sigmas.sort()\n",
    "    return (sigmas,pis)\n",
    "\n",
    "def GetLambdas():\n",
    "    \n",
    "    sigmas = np.array([])\n",
    "    pis = np.array([])\n",
    "\n",
    "    mj_g = np.array([(mj_12,g_12),(mj_32,g_32)])\n",
    "    for i in mj_g:\n",
    "        for j in mj_g:\n",
    "            sig,pi = GetComponents(i[0],j[0],i[1],j[1])\n",
    "            for l in sig:\n",
    "                if type(l)!=bool:\n",
    "                    if l not in sigmas:\n",
    "                        sigmas = np.append(sigmas, l)\n",
    "            for l in pi:\n",
    "                if type(l)!=bool:\n",
    "                    if l not in pis:\n",
    "                        pis = np.append(pis, l)\n",
    "                    \n",
    "    pis.sort()\n",
    "    sigmas.sort()\n",
    "    return (sigmas,pis)\n",
    "\n",
    "def GetErrorsLambdas(mj_i,mj_f,g_i,g_f,tolerancia = 10):\n",
    "    \n",
    "    sigmas = np.array([])\n",
    "    pis = np.array([])\n",
    "    \n",
    "    for i in mj_i:\n",
    "         for j in mj_f:\n",
    "            l = ((Ne_a**2)/(h*c))*Miu_B*e_B*(g_i*i-g_f*j)\n",
    "\n",
    "            if  type(l)!=bool:\n",
    "                if (i-j==0):\n",
    "                    croot = np.round( l, tolerancia )\n",
    "                    if croot not in pis:\n",
    "                        pis = np.append(pis, croot)\n",
    "\n",
    "                if (i-j==1):\n",
    "                    croot = np.round( l, tolerancia )\n",
    "                    if croot not in sigmas:\n",
    "                        sigmas = np.append(sigmas, croot)\n",
    "\n",
    "                if (i-j==-1):\n",
    "                    croot = np.round( l, tolerancia )\n",
    "                    if croot not in sigmas:\n",
    "                        sigmas = np.append(sigmas, croot)\n",
    "                    \n",
    "    pis.sort()\n",
    "    sigmas.sort()\n",
    "    return (sigmas,pis)"
   ]
  },
  {
   "cell_type": "markdown",
   "metadata": {},
   "source": [
    "- Caso 1"
   ]
  },
  {
   "cell_type": "code",
   "execution_count": 38,
   "metadata": {},
   "outputs": [
    {
     "data": {
      "text/plain": [
       "(array([-0.01432888,  0.01432888]), array([0.]))"
      ]
     },
     "execution_count": 38,
     "metadata": {},
     "output_type": "execute_result"
    }
   ],
   "source": [
    "GetComponents(mj_12,mj_12,g_12,g_12)"
   ]
  },
  {
   "cell_type": "code",
   "execution_count": 39,
   "metadata": {},
   "outputs": [
    {
     "data": {
      "text/plain": [
       "(array([-0.00143292,  0.00143292]), array([0.]))"
      ]
     },
     "execution_count": 39,
     "metadata": {},
     "output_type": "execute_result"
    }
   ],
   "source": [
    "GetErrorsLambdas(mj_12,mj_12,g_12,g_12)"
   ]
  },
  {
   "cell_type": "markdown",
   "metadata": {},
   "source": [
    "- Caso 2"
   ]
  },
  {
   "cell_type": "code",
   "execution_count": 40,
   "metadata": {},
   "outputs": [
    {
     "data": {
      "text/plain": [
       "(array([-0.0358222 , -0.02149332,  0.02149332,  0.0358222 ]),\n",
       " array([-0.00716444,  0.00716444]))"
      ]
     },
     "execution_count": 40,
     "metadata": {},
     "output_type": "execute_result"
    }
   ],
   "source": [
    "GetComponents(mj_32,mj_12,g_32,g_12)"
   ]
  },
  {
   "cell_type": "code",
   "execution_count": 41,
   "metadata": {},
   "outputs": [
    {
     "data": {
      "text/plain": [
       "(array([-0.0035823 , -0.00214938,  0.00214938,  0.0035823 ]),\n",
       " array([-0.00071646,  0.00071646]))"
      ]
     },
     "execution_count": 41,
     "metadata": {},
     "output_type": "execute_result"
    }
   ],
   "source": [
    "GetErrorsLambdas(mj_32,mj_12,g_32,g_12)"
   ]
  },
  {
   "cell_type": "markdown",
   "metadata": {},
   "source": [
    "- Caso 3"
   ]
  },
  {
   "cell_type": "code",
   "execution_count": 42,
   "metadata": {},
   "outputs": [
    {
     "data": {
      "text/plain": [
       "(array([-0.0358222 , -0.02149332,  0.02149332,  0.0358222 ]),\n",
       " array([-0.00716444,  0.00716444]))"
      ]
     },
     "execution_count": 42,
     "metadata": {},
     "output_type": "execute_result"
    }
   ],
   "source": [
    "GetComponents(mj_12,mj_32,g_12,g_32)"
   ]
  },
  {
   "cell_type": "code",
   "execution_count": 43,
   "metadata": {},
   "outputs": [
    {
     "data": {
      "text/plain": [
       "(array([-0.0035823 , -0.00214938,  0.00214938,  0.0035823 ]),\n",
       " array([-0.00071646,  0.00071646]))"
      ]
     },
     "execution_count": 43,
     "metadata": {},
     "output_type": "execute_result"
    }
   ],
   "source": [
    "GetErrorsLambdas(mj_12,mj_32,g_12,g_32)"
   ]
  },
  {
   "cell_type": "markdown",
   "metadata": {},
   "source": [
    "- Caso 4"
   ]
  },
  {
   "cell_type": "code",
   "execution_count": 44,
   "metadata": {},
   "outputs": [
    {
     "data": {
      "text/plain": [
       "(array([-0.02865776,  0.02865776]), array([0.]))"
      ]
     },
     "execution_count": 44,
     "metadata": {},
     "output_type": "execute_result"
    }
   ],
   "source": [
    "GetComponents(mj_32,mj_32,g_32,g_32)"
   ]
  },
  {
   "cell_type": "code",
   "execution_count": 45,
   "metadata": {},
   "outputs": [
    {
     "data": {
      "text/plain": [
       "(array([-0.00286584,  0.00286584]), array([0.]))"
      ]
     },
     "execution_count": 45,
     "metadata": {},
     "output_type": "execute_result"
    }
   ],
   "source": [
    "GetErrorsLambdas(mj_32,mj_32,g_32,g_32)"
   ]
  },
  {
   "cell_type": "markdown",
   "metadata": {},
   "source": [
    "Escogemos el caso 2 o 3:"
   ]
  },
  {
   "cell_type": "code",
   "execution_count": 46,
   "metadata": {},
   "outputs": [],
   "source": [
    "L = GetComponents(mj_32,mj_12,g_32,g_12)"
   ]
  },
  {
   "cell_type": "code",
   "execution_count": 47,
   "metadata": {},
   "outputs": [
    {
     "data": {
      "text/plain": [
       "Text(0.5, 0, 'Longitud de onda (nm)')"
      ]
     },
     "execution_count": 47,
     "metadata": {},
     "output_type": "execute_result"
    },
    {
     "data": {
      "image/png": "[encoded data removed]",
      "text/plain": [
       "<Figure size 864x576 with 1 Axes>"
      ]
     },
     "metadata": {
      "needs_background": "light"
     },
     "output_type": "display_data"
    }
   ],
   "source": [
    "plt.figure(figsize=(12, 8))\n",
    "for i in L[0]:\n",
    "    plt.axvline(x=i,color='k')\n",
    "for i in L[1]:\n",
    "    plt.axvline(x=i,color='r')\n",
    "plt.title('Espectro de efecto Zeeman anómalo de la línea del Neón 724.5nm')\n",
    "plt.xlabel('Longitud de onda (nm)')"
   ]
  }
 ],
 "metadata": {
  "kernelspec": {
   "display_name": "base",
   "language": "python",
   "name": "python3"
  },
  "language_info": {
   "codemirror_mode": {
    "name": "ipython",
    "version": 3
   },
   "file_extension": ".py",
   "mimetype": "text/x-python",
   "name": "python",
   "nbconvert_exporter": "python",
   "pygments_lexer": "ipython3",
   "version": "3.9.7"
  }
 },
 "nbformat": 4,
 "nbformat_minor": 2
}
