{
 "cells": [
  {
   "cell_type": "code",
   "execution_count": 1,
   "metadata": {},
   "outputs": [],
   "source": [
    "import numpy as np\n",
    "import matplotlib.pyplot as plt"
   ]
  },
  {
   "cell_type": "markdown",
   "metadata": {},
   "source": [
    "# Linear regresion"
   ]
  },
  {
   "cell_type": "code",
   "execution_count": 2,
   "metadata": {},
   "outputs": [
    {
     "data": {
      "text/plain": [
       "array([0.95, 1.25])"
      ]
     },
     "execution_count": 2,
     "metadata": {},
     "output_type": "execute_result"
    }
   ],
   "source": [
    "x = np.array([1, 2, 3, 4, 5])  #valores del eje x\n",
    "y = np.array([2, 3.5, 4, 5, 6]) #valores del eje y\n",
    "\n",
    "n = 1 #grado del polinomio a modelar (n=1 para una línea)\n",
    "fit,cov = np.polyfit(x,y,n,cov=True)\n",
    "fit #el modelo\n"
   ]
  },
  {
   "cell_type": "markdown",
   "metadata": {},
   "source": [
    "Parámetros del modelo (m,b en este caso) y función del modelo (ecuación de la recta en este caso)"
   ]
  },
  {
   "cell_type": "code",
   "execution_count": 3,
   "metadata": {},
   "outputs": [],
   "source": [
    "m = fit[0] #pendiente de la recta\n",
    "b = fit[1] #punto de corte con el eje y\n",
    "fit_function = lambda x: m*x + b #nuestra función quue modela los datos en este caso\n",
    "_x = np.linspace(np.min(x),np.max(x)) #necesitamos artos puntos entre los valores del eje x para que la curva quede bonita xd\n",
    "_y = fit_function(_x) #valores del eje y del modelo"
   ]
  },
  {
   "cell_type": "markdown",
   "metadata": {},
   "source": [
    "Incertidumbres de la pendiente y punto de corte, factor R cuadrado y residuales"
   ]
  },
  {
   "cell_type": "code",
   "execution_count": 4,
   "metadata": {},
   "outputs": [
    {
     "data": {
      "text/plain": [
       "array([[ 0.00583333, -0.0175    ],\n",
       "       [-0.0175    ,  0.06416667]])"
      ]
     },
     "execution_count": 4,
     "metadata": {},
     "output_type": "execute_result"
    }
   ],
   "source": [
    "cov #es la matriz de covarianza, la diagonal es la varianza de los parámetros del modelo (m y b), la varianza es el cuadrado de la desviación estándar "
   ]
  },
  {
   "cell_type": "code",
   "execution_count": 5,
   "metadata": {},
   "outputs": [
    {
     "data": {
      "text/plain": [
       "array([0.08, 0.25])"
      ]
     },
     "execution_count": 5,
     "metadata": {},
     "output_type": "execute_result"
    }
   ],
   "source": [
    "error_m = np.sqrt(cov[0,0]) #desviación estándard de la pendiente\n",
    "error_b = np.sqrt(cov[-1,-1]) #desviación estándard del punto de corte\n",
    "np.round((error_m,error_b),2)"
   ]
  },
  {
   "cell_type": "code",
   "execution_count": 6,
   "metadata": {},
   "outputs": [
    {
     "data": {
      "text/plain": [
       "0.8181818181818182"
      ]
     },
     "execution_count": 6,
     "metadata": {},
     "output_type": "execute_result"
    }
   ],
   "source": [
    "R2 = (cov[0][1]**2)/(cov[0][0]*cov[1][1]) #definición del factor R cuadrado\n",
    "R2 #indica que tan bien el modelo se ajusta a los datos, más cerca a 1 mejor"
   ]
  },
  {
   "cell_type": "code",
   "execution_count": 7,
   "metadata": {},
   "outputs": [],
   "source": [
    "R = y - fit_function(x) #los residuales, es decir que tan lejos están los puntos del modelo"
   ]
  },
  {
   "cell_type": "markdown",
   "metadata": {},
   "source": [
    "A graficar :D"
   ]
  },
  {
   "cell_type": "code",
   "execution_count": 8,
   "metadata": {},
   "outputs": [
    {
     "data": {
      "image/png": "[encoded data removed]",
      "text/plain": [
       "<Figure size 720x432 with 2 Axes>"
      ]
     },
     "metadata": {
      "needs_background": "light"
     },
     "output_type": "display_data"
    }
   ],
   "source": [
    "fig, axs = plt.subplots(2, 1, figsize=(10, 6), gridspec_kw={'height_ratios': [1.5, 1]},sharex=True)\n",
    "fig.subplots_adjust(hspace=0)\n",
    "fig.suptitle('Regresión lineal')\n",
    "\n",
    "#axs[0] es la gráfica de arriba donde vamos a graficar los datos\n",
    "axs[0].scatter(x,y,label='datos', color='red',marker='x') #los datos\n",
    "axs[0].plot(_x,_y,label='Regresión lineal') #el modelo\n",
    "axs[0].set_ylabel('Nombre del eje y')\n",
    "axs[0].legend()\n",
    "\n",
    "#axs[1] es la gráfica del residual\n",
    "axs[1].scatter(x,R) #residuales\n",
    "axs[1].axhline(y=0, color='black', linestyle='--') #línea en y=0 pa que se vea bonito xd\n",
    "axs[1].set_xlabel('Nombre del eje x')\n",
    "axs[1].set_ylabel('Residual')\n",
    "\n",
    "plt.show()"
   ]
  },
  {
   "cell_type": "markdown",
   "metadata": {},
   "source": [
    "lo que necesitas reportar sería:"
   ]
  },
  {
   "cell_type": "code",
   "execution_count": 9,
   "metadata": {},
   "outputs": [
    {
     "name": "stdout",
     "output_type": "stream",
     "text": [
      "y = (0.95 +/- 0.08)x + (1.25 +/- 0.25)\n",
      "R^2 = 0.82\n"
     ]
    }
   ],
   "source": [
    "#Datos\n",
    "m = np.round(m,2)\n",
    "b = np.round(b,2)\n",
    "error_m = np.round(error_m,2)\n",
    "error_b = np.round(error_b,2)\n",
    "R2 = np.round(R2,2)\n",
    "print('y = ({m} +/- {error_m})x + ({b} +/- {error_b})'.format(m=m,error_m=error_m,b=b,error_b=error_b))\n",
    "print('R^2 = {R2}'.format(R2=R2))"
   ]
  }
 ],
 "metadata": {
  "kernelspec": {
   "display_name": "base",
   "language": "python",
   "name": "python3"
  },
  "language_info": {
   "codemirror_mode": {
    "name": "ipython",
    "version": 3
   },
   "file_extension": ".py",
   "mimetype": "text/x-python",
   "name": "python",
   "nbconvert_exporter": "python",
   "pygments_lexer": "ipython3",
   "version": "3.9.7"
  }
 },
 "nbformat": 4,
 "nbformat_minor": 2
}
